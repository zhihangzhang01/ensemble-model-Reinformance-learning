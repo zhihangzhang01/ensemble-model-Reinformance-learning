{
 "cells": [
  {
   "cell_type": "markdown",
   "id": "3db6effb",
   "metadata": {},
   "source": [
    "# COMP47490 Assignment 2\n",
    "\n",
    "\n",
    "\n",
    "SN: 20748939\n",
    "\n",
    "Name: Zhihang Zhang"
   ]
  },
  {
   "cell_type": "code",
   "execution_count": 1,
   "id": "f2d33a8e",
   "metadata": {},
   "outputs": [
    {
     "name": "stderr",
     "output_type": "stream",
     "text": [
      "C:\\ProgramData\\Anaconda3\\lib\\site-packages\\scipy\\__init__.py:146: UserWarning: A NumPy version >=1.16.5 and <1.23.0 is required for this version of SciPy (detected version 1.26.1\n",
      "  warnings.warn(f\"A NumPy version >={np_minversion} and <{np_maxversion}\"\n"
     ]
    }
   ],
   "source": [
    "import pandas as pd\n",
    "from sklearn.model_selection import train_test_split\n",
    "import matplotlib.pyplot as plt\n",
    "import numpy as np\n",
    "from sklearn.preprocessing import StandardScaler\n",
    "from sklearn.tree import DecisionTreeClassifier\n",
    "from sklearn.neighbors import KNeighborsClassifier\n",
    "from sklearn.model_selection import cross_val_score\n",
    "from sklearn.preprocessing import MinMaxScaler\n",
    "from sklearn.neural_network import MLPClassifier\n",
    "from sklearn.metrics import balanced_accuracy_score"
   ]
  },
  {
   "cell_type": "markdown",
   "id": "4dbe90a5",
   "metadata": {},
   "source": [
    "## Question 1"
   ]
  },
  {
   "cell_type": "markdown",
   "id": "2e52defc",
   "metadata": {},
   "source": [
    "### (a) Clean and prepare the dataset for machine learning analysis."
   ]
  },
  {
   "cell_type": "code",
   "execution_count": 2,
   "id": "2b4a2ac1",
   "metadata": {},
   "outputs": [
    {
     "data": {
      "text/html": [
       "<div>\n",
       "<style scoped>\n",
       "    .dataframe tbody tr th:only-of-type {\n",
       "        vertical-align: middle;\n",
       "    }\n",
       "\n",
       "    .dataframe tbody tr th {\n",
       "        vertical-align: top;\n",
       "    }\n",
       "\n",
       "    .dataframe thead th {\n",
       "        text-align: right;\n",
       "    }\n",
       "</style>\n",
       "<table border=\"1\" class=\"dataframe\">\n",
       "  <thead>\n",
       "    <tr style=\"text-align: right;\">\n",
       "      <th></th>\n",
       "      <th>age</th>\n",
       "      <th>workclass</th>\n",
       "      <th>fnlwgt</th>\n",
       "      <th>education</th>\n",
       "      <th>education-num</th>\n",
       "      <th>marital-status</th>\n",
       "      <th>occupation</th>\n",
       "      <th>relationship</th>\n",
       "      <th>race</th>\n",
       "      <th>sex</th>\n",
       "      <th>capital-gain</th>\n",
       "      <th>capital-loss</th>\n",
       "      <th>hours-per-week</th>\n",
       "      <th>native-country</th>\n",
       "      <th>Income-category</th>\n",
       "    </tr>\n",
       "  </thead>\n",
       "  <tbody>\n",
       "    <tr>\n",
       "      <th>0</th>\n",
       "      <td>21</td>\n",
       "      <td>Private</td>\n",
       "      <td>25265</td>\n",
       "      <td>Assoc-voc</td>\n",
       "      <td>11</td>\n",
       "      <td>Never-married</td>\n",
       "      <td>Machine-op-inspct</td>\n",
       "      <td>Not-in-family</td>\n",
       "      <td>White</td>\n",
       "      <td>Male</td>\n",
       "      <td>0</td>\n",
       "      <td>0</td>\n",
       "      <td>30</td>\n",
       "      <td>United-States</td>\n",
       "      <td>&lt;=50K</td>\n",
       "    </tr>\n",
       "    <tr>\n",
       "      <th>1</th>\n",
       "      <td>58</td>\n",
       "      <td>?</td>\n",
       "      <td>266792</td>\n",
       "      <td>Some-college</td>\n",
       "      <td>10</td>\n",
       "      <td>Married-civ-spouse</td>\n",
       "      <td>?</td>\n",
       "      <td>Husband</td>\n",
       "      <td>White</td>\n",
       "      <td>Male</td>\n",
       "      <td>99999</td>\n",
       "      <td>0</td>\n",
       "      <td>40</td>\n",
       "      <td>United-States</td>\n",
       "      <td>&gt;50K</td>\n",
       "    </tr>\n",
       "    <tr>\n",
       "      <th>2</th>\n",
       "      <td>39</td>\n",
       "      <td>Private</td>\n",
       "      <td>278187</td>\n",
       "      <td>HS-grad</td>\n",
       "      <td>9</td>\n",
       "      <td>Married-civ-spouse</td>\n",
       "      <td>Machine-op-inspct</td>\n",
       "      <td>Husband</td>\n",
       "      <td>White</td>\n",
       "      <td>Male</td>\n",
       "      <td>0</td>\n",
       "      <td>0</td>\n",
       "      <td>40</td>\n",
       "      <td>United-States</td>\n",
       "      <td>&lt;=50K</td>\n",
       "    </tr>\n",
       "    <tr>\n",
       "      <th>3</th>\n",
       "      <td>42</td>\n",
       "      <td>Private</td>\n",
       "      <td>510072</td>\n",
       "      <td>HS-grad</td>\n",
       "      <td>9</td>\n",
       "      <td>Married-civ-spouse</td>\n",
       "      <td>Craft-repair</td>\n",
       "      <td>Husband</td>\n",
       "      <td>White</td>\n",
       "      <td>Male</td>\n",
       "      <td>0</td>\n",
       "      <td>0</td>\n",
       "      <td>40</td>\n",
       "      <td>United-States</td>\n",
       "      <td>&gt;50K</td>\n",
       "    </tr>\n",
       "    <tr>\n",
       "      <th>4</th>\n",
       "      <td>48</td>\n",
       "      <td>Private</td>\n",
       "      <td>125421</td>\n",
       "      <td>Masters</td>\n",
       "      <td>14</td>\n",
       "      <td>Divorced</td>\n",
       "      <td>Exec-managerial</td>\n",
       "      <td>Unmarried</td>\n",
       "      <td>White</td>\n",
       "      <td>Female</td>\n",
       "      <td>0</td>\n",
       "      <td>0</td>\n",
       "      <td>40</td>\n",
       "      <td>United-States</td>\n",
       "      <td>&gt;50K</td>\n",
       "    </tr>\n",
       "  </tbody>\n",
       "</table>\n",
       "</div>"
      ],
      "text/plain": [
       "   age  workclass   fnlwgt      education   education-num  \\\n",
       "0   21    Private    25265      Assoc-voc              11   \n",
       "1   58          ?   266792   Some-college              10   \n",
       "2   39    Private   278187        HS-grad               9   \n",
       "3   42    Private   510072        HS-grad               9   \n",
       "4   48    Private   125421        Masters              14   \n",
       "\n",
       "        marital-status          occupation    relationship    race      sex  \\\n",
       "0        Never-married   Machine-op-inspct   Not-in-family   White     Male   \n",
       "1   Married-civ-spouse                   ?         Husband   White     Male   \n",
       "2   Married-civ-spouse   Machine-op-inspct         Husband   White     Male   \n",
       "3   Married-civ-spouse        Craft-repair         Husband   White     Male   \n",
       "4             Divorced     Exec-managerial       Unmarried   White   Female   \n",
       "\n",
       "    capital-gain   capital-loss   hours-per-week  native-country  \\\n",
       "0              0              0               30   United-States   \n",
       "1          99999              0               40   United-States   \n",
       "2              0              0               40   United-States   \n",
       "3              0              0               40   United-States   \n",
       "4              0              0               40   United-States   \n",
       "\n",
       "   Income-category  \n",
       "0            <=50K  \n",
       "1             >50K  \n",
       "2            <=50K  \n",
       "3             >50K  \n",
       "4             >50K  "
      ]
     },
     "execution_count": 2,
     "metadata": {},
     "output_type": "execute_result"
    }
   ],
   "source": [
    "# Load data file\n",
    "df = pd.read_csv(\"census_20748939.csv\")\n",
    "df.head()"
   ]
  },
  {
   "cell_type": "code",
   "execution_count": 3,
   "id": "d60d6694",
   "metadata": {},
   "outputs": [
    {
     "data": {
      "text/plain": [
       "(10000, 15)"
      ]
     },
     "execution_count": 3,
     "metadata": {},
     "output_type": "execute_result"
    }
   ],
   "source": [
    "df.shape"
   ]
  },
  {
   "cell_type": "markdown",
   "id": "c6c82dee",
   "metadata": {},
   "source": [
    "###### Clean the column names to remove white space after the name or in the name"
   ]
  },
  {
   "cell_type": "code",
   "execution_count": 4,
   "id": "1a2b29d8",
   "metadata": {},
   "outputs": [
    {
     "data": {
      "text/plain": [
       "Index(['age', 'workclass', 'fnlwgt', 'education', 'education-num',\n",
       "       'marital-status', 'occupation', 'relationship', 'race', 'sex',\n",
       "       'capital-gain', 'capital-loss', 'hours-per-week', 'native-country',\n",
       "       'Income-category'],\n",
       "      dtype='object')"
      ]
     },
     "execution_count": 4,
     "metadata": {},
     "output_type": "execute_result"
    }
   ],
   "source": [
    "df.columns = df.columns.str.replace(' ', '')\n",
    "df.columns"
   ]
  },
  {
   "cell_type": "markdown",
   "id": "b990806f",
   "metadata": {},
   "source": [
    "###### Check the cardinality of the columns"
   ]
  },
  {
   "cell_type": "code",
   "execution_count": 5,
   "id": "91774a0a",
   "metadata": {},
   "outputs": [
    {
     "data": {
      "text/plain": [
       "age                  71\n",
       "workclass             9\n",
       "fnlwgt             8477\n",
       "education            16\n",
       "education-num        16\n",
       "marital-status        7\n",
       "occupation           15\n",
       "relationship          6\n",
       "race                  5\n",
       "sex                   2\n",
       "capital-gain        100\n",
       "capital-loss         74\n",
       "hours-per-week       83\n",
       "native-country       41\n",
       "Income-category       2\n",
       "dtype: int64"
      ]
     },
     "execution_count": 5,
     "metadata": {},
     "output_type": "execute_result"
    }
   ],
   "source": [
    "# Get the number of unique values for all features\n",
    "df.nunique()"
   ]
  },
  {
   "cell_type": "markdown",
   "id": "574250e5",
   "metadata": {},
   "source": [
    "**Result**: There are no constant columns"
   ]
  },
  {
   "cell_type": "markdown",
   "id": "560b137e",
   "metadata": {},
   "source": [
    "###### Check for typographical errors"
   ]
  },
  {
   "cell_type": "code",
   "execution_count": 6,
   "id": "5cb60e9f",
   "metadata": {},
   "outputs": [
    {
     "data": {
      "text/plain": [
       "age                   int64\n",
       "workclass          category\n",
       "fnlwgt                int64\n",
       "education          category\n",
       "education-num         int64\n",
       "marital-status     category\n",
       "occupation         category\n",
       "relationship       category\n",
       "race               category\n",
       "sex                category\n",
       "capital-gain          int64\n",
       "capital-loss          int64\n",
       "hours-per-week        int64\n",
       "native-country     category\n",
       "Income-category    category\n",
       "dtype: object"
      ]
     },
     "execution_count": 6,
     "metadata": {},
     "output_type": "execute_result"
    }
   ],
   "source": [
    "#Select all columns of type 'object'\n",
    "category_columns = df.select_dtypes(['object']).columns\n",
    "for column in category_columns:\n",
    "    df[column] = df[column].astype('category')\n",
    "df.dtypes"
   ]
  },
  {
   "cell_type": "code",
   "execution_count": 7,
   "id": "13770d00",
   "metadata": {},
   "outputs": [
    {
     "name": "stdout",
     "output_type": "stream",
     "text": [
      " Private             7006\n",
      " Self-emp-not-inc     756\n",
      " Local-gov            640\n",
      " ?                    546\n",
      " State-gov            366\n",
      " Self-emp-inc         361\n",
      " Federal-gov          321\n",
      " Without-pay            3\n",
      " Never-worked           1\n",
      "Name: workclass, dtype: int64 \n",
      "\n",
      " HS-grad         3188\n",
      " Some-college    2289\n",
      " Bachelors       1622\n",
      " Masters          517\n",
      " Assoc-voc        432\n",
      " 11th             348\n",
      " Assoc-acdm       333\n",
      " 10th             286\n",
      " 7th-8th          195\n",
      " Prof-school      172\n",
      " 9th              155\n",
      " 12th             154\n",
      " 5th-6th          123\n",
      " Doctorate        121\n",
      " 1st-4th           46\n",
      " Preschool         19\n",
      "Name: education, dtype: int64 \n",
      "\n",
      " Married-civ-spouse    4584\n",
      " Never-married         3304\n",
      " Divorced              1354\n",
      " Separated              318\n",
      " Widowed                311\n",
      " Married-spouse-abs     124\n",
      " Married-AF-spouse        5\n",
      "Name: marital-status, dtype: int64 \n",
      "\n",
      " Prof-specialty       1295\n",
      " Craft-repair         1257\n",
      " Exec-managerial      1222\n",
      " Adm-clerical         1143\n",
      " Sales                1121\n",
      " Other-service        1043\n",
      " Machine-op-inspct     608\n",
      " ?                     547\n",
      " Transport-moving      490\n",
      " Handlers-cleaners     426\n",
      " Farming-fishing       304\n",
      " Tech-support          279\n",
      " Protective-serv       220\n",
      " Priv-house-serv        42\n",
      " Armed-Forces            3\n",
      "Name: occupation, dtype: int64 \n",
      "\n",
      " Husband           4039\n",
      " Not-in-family     2584\n",
      " Own-child         1532\n",
      " Unmarried         1086\n",
      " Wife               471\n",
      " Other-relative     288\n",
      "Name: relationship, dtype: int64 \n",
      "\n",
      " White                 8521\n",
      " Black                  992\n",
      " Asian-Pac-Islander     310\n",
      " Amer-Indian-Eskimo      90\n",
      " Other                   87\n",
      "Name: race, dtype: int64 \n",
      "\n",
      " Male      6717\n",
      " Female    3283\n",
      "Name: sex, dtype: int64 \n",
      "\n",
      " United-States            8937\n",
      " Mexico                    201\n",
      " ?                         182\n",
      " Philippines                63\n",
      " Germany                    47\n",
      " Puerto-Rico                39\n",
      " Cuba                       33\n",
      " El-Salvador                32\n",
      " Canada                     30\n",
      " England                    30\n",
      " Dominican-Republic         25\n",
      " China                      25\n",
      " Japan                      24\n",
      " South                      22\n",
      " Jamaica                    22\n",
      " Vietnam                    22\n",
      " India                      21\n",
      " Guatemala                  20\n",
      " Italy                      20\n",
      " Poland                     16\n",
      " Columbia                   16\n",
      " Haiti                      16\n",
      " Taiwan                     15\n",
      " Ireland                    13\n",
      " Iran                       13\n",
      " Nicaragua                  11\n",
      " Ecuador                    11\n",
      " Peru                       11\n",
      " Portugal                   11\n",
      " France                     10\n",
      " Trinadad&Tobago            10\n",
      " Laos                        7\n",
      " Greece                      7\n",
      " Hong                        7\n",
      " Cambodia                    6\n",
      " Outlying-US-Guam-USVI       6\n",
      " Scotland                    5\n",
      " Thailand                    5\n",
      " Honduras                    4\n",
      " Hungary                     3\n",
      " Yugoslavia                  2\n",
      "Name: native-country, dtype: int64 \n",
      "\n",
      " <=50K    7610\n",
      " >50K     2390\n",
      "Name: Income-category, dtype: int64 \n",
      "\n"
     ]
    }
   ],
   "source": [
    "### Check the values contained in each of the categorical variables\n",
    "for column in category_columns:\n",
    "    print(df[column].value_counts(), '\\n')"
   ]
  },
  {
   "cell_type": "markdown",
   "id": "6e187dfe",
   "metadata": {},
   "source": [
    "**Result**: \n",
    "  - From the list of each unique value for columns  we can see some of missing value is denoted as ? in `workclass`,`occupation` and `native-country`."
   ]
  },
  {
   "cell_type": "markdown",
   "id": "0b1f1cc9",
   "metadata": {},
   "source": [
    "##### Check for Null Values"
   ]
  },
  {
   "cell_type": "code",
   "execution_count": 8,
   "id": "7e182e94",
   "metadata": {},
   "outputs": [
    {
     "data": {
      "text/plain": [
       "age                0.00\n",
       "workclass          5.46\n",
       "fnlwgt             0.00\n",
       "education          0.00\n",
       "education-num      0.00\n",
       "marital-status     0.00\n",
       "occupation         5.47\n",
       "relationship       0.00\n",
       "race               0.00\n",
       "sex                0.00\n",
       "capital-gain       0.00\n",
       "capital-loss       0.00\n",
       "hours-per-week     0.00\n",
       "native-country     1.82\n",
       "Income-category    0.00\n",
       "dtype: float64"
      ]
     },
     "execution_count": 8,
     "metadata": {},
     "output_type": "execute_result"
    }
   ],
   "source": [
    "df = df.replace(' ?', np.nan)\n",
    "#% of missing data for all features\n",
    "100 * (df.isnull().sum()/df.shape[0])"
   ]
  },
  {
   "cell_type": "code",
   "execution_count": 9,
   "id": "636fef8b",
   "metadata": {},
   "outputs": [
    {
     "data": {
      "text/plain": [
       "(722, 15)"
      ]
     },
     "execution_count": 9,
     "metadata": {},
     "output_type": "execute_result"
    }
   ],
   "source": [
    "df[df.isna().any(axis=1)].shape"
   ]
  },
  {
   "cell_type": "markdown",
   "id": "e83c7c1d",
   "metadata": {},
   "source": [
    "**Result**: \n",
    "There are 722 missing values which is 7% of total data in the complete dataset."
   ]
  },
  {
   "cell_type": "markdown",
   "id": "c60a788f",
   "metadata": {},
   "source": [
    "#### Check for duplicate row/columns"
   ]
  },
  {
   "cell_type": "code",
   "execution_count": 10,
   "id": "2cf64a45",
   "metadata": {},
   "outputs": [
    {
     "data": {
      "text/html": [
       "<div>\n",
       "<style scoped>\n",
       "    .dataframe tbody tr th:only-of-type {\n",
       "        vertical-align: middle;\n",
       "    }\n",
       "\n",
       "    .dataframe tbody tr th {\n",
       "        vertical-align: top;\n",
       "    }\n",
       "\n",
       "    .dataframe thead th {\n",
       "        text-align: right;\n",
       "    }\n",
       "</style>\n",
       "<table border=\"1\" class=\"dataframe\">\n",
       "  <thead>\n",
       "    <tr style=\"text-align: right;\">\n",
       "      <th></th>\n",
       "      <th>age</th>\n",
       "      <th>workclass</th>\n",
       "      <th>fnlwgt</th>\n",
       "      <th>education</th>\n",
       "      <th>education-num</th>\n",
       "      <th>marital-status</th>\n",
       "      <th>occupation</th>\n",
       "      <th>relationship</th>\n",
       "      <th>race</th>\n",
       "      <th>sex</th>\n",
       "      <th>capital-gain</th>\n",
       "      <th>capital-loss</th>\n",
       "      <th>hours-per-week</th>\n",
       "      <th>native-country</th>\n",
       "      <th>Income-category</th>\n",
       "    </tr>\n",
       "  </thead>\n",
       "  <tbody>\n",
       "    <tr>\n",
       "      <th>2316</th>\n",
       "      <td>21</td>\n",
       "      <td>Private</td>\n",
       "      <td>250051</td>\n",
       "      <td>Some-college</td>\n",
       "      <td>10</td>\n",
       "      <td>Never-married</td>\n",
       "      <td>Prof-specialty</td>\n",
       "      <td>Own-child</td>\n",
       "      <td>White</td>\n",
       "      <td>Female</td>\n",
       "      <td>0</td>\n",
       "      <td>0</td>\n",
       "      <td>10</td>\n",
       "      <td>United-States</td>\n",
       "      <td>&lt;=50K</td>\n",
       "    </tr>\n",
       "    <tr>\n",
       "      <th>5264</th>\n",
       "      <td>21</td>\n",
       "      <td>Private</td>\n",
       "      <td>250051</td>\n",
       "      <td>Some-college</td>\n",
       "      <td>10</td>\n",
       "      <td>Never-married</td>\n",
       "      <td>Prof-specialty</td>\n",
       "      <td>Own-child</td>\n",
       "      <td>White</td>\n",
       "      <td>Female</td>\n",
       "      <td>0</td>\n",
       "      <td>0</td>\n",
       "      <td>10</td>\n",
       "      <td>United-States</td>\n",
       "      <td>&lt;=50K</td>\n",
       "    </tr>\n",
       "  </tbody>\n",
       "</table>\n",
       "</div>"
      ],
      "text/plain": [
       "      age workclass  fnlwgt      education  education-num  marital-status  \\\n",
       "2316   21   Private  250051   Some-college             10   Never-married   \n",
       "5264   21   Private  250051   Some-college             10   Never-married   \n",
       "\n",
       "           occupation relationship    race      sex  capital-gain  \\\n",
       "2316   Prof-specialty    Own-child   White   Female             0   \n",
       "5264   Prof-specialty    Own-child   White   Female             0   \n",
       "\n",
       "      capital-loss  hours-per-week  native-country Income-category  \n",
       "2316             0              10   United-States           <=50K  \n",
       "5264             0              10   United-States           <=50K  "
      ]
     },
     "execution_count": 10,
     "metadata": {},
     "output_type": "execute_result"
    }
   ],
   "source": [
    "# Show duplicate row data\n",
    "df[df.duplicated(keep=False)]"
   ]
  },
  {
   "cell_type": "code",
   "execution_count": 11,
   "id": "760d3ffb",
   "metadata": {},
   "outputs": [],
   "source": [
    "df.drop_duplicates(inplace=True)"
   ]
  },
  {
   "cell_type": "markdown",
   "id": "46e04ed6",
   "metadata": {},
   "source": [
    "**Result**: Only 1 duplicate row to drop"
   ]
  },
  {
   "cell_type": "markdown",
   "id": "8fefaae7",
   "metadata": {},
   "source": [
    "#### Further check on features"
   ]
  },
  {
   "cell_type": "code",
   "execution_count": 12,
   "id": "1baf2373",
   "metadata": {},
   "outputs": [
    {
     "data": {
      "text/html": [
       "<div>\n",
       "<style scoped>\n",
       "    .dataframe tbody tr th:only-of-type {\n",
       "        vertical-align: middle;\n",
       "    }\n",
       "\n",
       "    .dataframe tbody tr th {\n",
       "        vertical-align: top;\n",
       "    }\n",
       "\n",
       "    .dataframe thead th {\n",
       "        text-align: right;\n",
       "    }\n",
       "</style>\n",
       "<table border=\"1\" class=\"dataframe\">\n",
       "  <thead>\n",
       "    <tr style=\"text-align: right;\">\n",
       "      <th></th>\n",
       "      <th>count</th>\n",
       "      <th>mean</th>\n",
       "      <th>std</th>\n",
       "      <th>min</th>\n",
       "      <th>25%</th>\n",
       "      <th>50%</th>\n",
       "      <th>75%</th>\n",
       "      <th>max</th>\n",
       "    </tr>\n",
       "  </thead>\n",
       "  <tbody>\n",
       "    <tr>\n",
       "      <th>age</th>\n",
       "      <td>9999.0</td>\n",
       "      <td>38.620362</td>\n",
       "      <td>13.615350</td>\n",
       "      <td>17.0</td>\n",
       "      <td>28.0</td>\n",
       "      <td>37.0</td>\n",
       "      <td>48.0</td>\n",
       "      <td>90.0</td>\n",
       "    </tr>\n",
       "    <tr>\n",
       "      <th>fnlwgt</th>\n",
       "      <td>9999.0</td>\n",
       "      <td>189809.975498</td>\n",
       "      <td>105811.570731</td>\n",
       "      <td>12285.0</td>\n",
       "      <td>117749.0</td>\n",
       "      <td>179413.0</td>\n",
       "      <td>237539.5</td>\n",
       "      <td>1455435.0</td>\n",
       "    </tr>\n",
       "    <tr>\n",
       "      <th>education-num</th>\n",
       "      <td>9999.0</td>\n",
       "      <td>10.058906</td>\n",
       "      <td>2.572655</td>\n",
       "      <td>1.0</td>\n",
       "      <td>9.0</td>\n",
       "      <td>10.0</td>\n",
       "      <td>12.0</td>\n",
       "      <td>16.0</td>\n",
       "    </tr>\n",
       "    <tr>\n",
       "      <th>capital-gain</th>\n",
       "      <td>9999.0</td>\n",
       "      <td>1075.606261</td>\n",
       "      <td>7283.816667</td>\n",
       "      <td>0.0</td>\n",
       "      <td>0.0</td>\n",
       "      <td>0.0</td>\n",
       "      <td>0.0</td>\n",
       "      <td>99999.0</td>\n",
       "    </tr>\n",
       "    <tr>\n",
       "      <th>capital-loss</th>\n",
       "      <td>9999.0</td>\n",
       "      <td>88.776378</td>\n",
       "      <td>406.381386</td>\n",
       "      <td>0.0</td>\n",
       "      <td>0.0</td>\n",
       "      <td>0.0</td>\n",
       "      <td>0.0</td>\n",
       "      <td>4356.0</td>\n",
       "    </tr>\n",
       "    <tr>\n",
       "      <th>hours-per-week</th>\n",
       "      <td>9999.0</td>\n",
       "      <td>40.358436</td>\n",
       "      <td>12.403488</td>\n",
       "      <td>1.0</td>\n",
       "      <td>40.0</td>\n",
       "      <td>40.0</td>\n",
       "      <td>45.0</td>\n",
       "      <td>99.0</td>\n",
       "    </tr>\n",
       "  </tbody>\n",
       "</table>\n",
       "</div>"
      ],
      "text/plain": [
       "                 count           mean            std      min       25%  \\\n",
       "age             9999.0      38.620362      13.615350     17.0      28.0   \n",
       "fnlwgt          9999.0  189809.975498  105811.570731  12285.0  117749.0   \n",
       "education-num   9999.0      10.058906       2.572655      1.0       9.0   \n",
       "capital-gain    9999.0    1075.606261    7283.816667      0.0       0.0   \n",
       "capital-loss    9999.0      88.776378     406.381386      0.0       0.0   \n",
       "hours-per-week  9999.0      40.358436      12.403488      1.0      40.0   \n",
       "\n",
       "                     50%       75%        max  \n",
       "age                 37.0      48.0       90.0  \n",
       "fnlwgt          179413.0  237539.5  1455435.0  \n",
       "education-num       10.0      12.0       16.0  \n",
       "capital-gain         0.0       0.0    99999.0  \n",
       "capital-loss         0.0       0.0     4356.0  \n",
       "hours-per-week      40.0      45.0       99.0  "
      ]
     },
     "execution_count": 12,
     "metadata": {},
     "output_type": "execute_result"
    }
   ],
   "source": [
    "df.describe().T"
   ]
  },
  {
   "cell_type": "code",
   "execution_count": 13,
   "id": "7d4bce53",
   "metadata": {},
   "outputs": [
    {
     "name": "stderr",
     "output_type": "stream",
     "text": [
      "C:\\Users\\paddy\\AppData\\Local\\Temp\\ipykernel_37468\\2531099592.py:2: MatplotlibDeprecationWarning: The 'b' parameter of grid() has been renamed 'visible' since Matplotlib 3.5; support for the old name will be dropped two minor releases later.\n",
      "  plt.grid(b=True, which='major', color='#666666', linestyle='-')\n"
     ]
    },
    {
     "data": {
      "image/png": "[encoded data removed]",
      "text/plain": [
       "<Figure size 1440x1800 with 8 Axes>"
      ]
     },
     "metadata": {
      "needs_background": "light"
     },
     "output_type": "display_data"
    }
   ],
   "source": [
    "df.hist(figsize=(20, 25), layout=(4,2));\n",
    "plt.grid(b=True, which='major', color='#666666', linestyle='-')"
   ]
  },
  {
   "cell_type": "markdown",
   "id": "062064b4",
   "metadata": {},
   "source": [
    "**Result**: We can see that capital-loss and capital-gain contains outliers and unusual data distribution."
   ]
  },
  {
   "cell_type": "code",
   "execution_count": 14,
   "id": "819037cf",
   "metadata": {},
   "outputs": [
    {
     "data": {
      "image/png": "[encoded data removed]",
      "text/plain": [
       "<Figure size 1152x360 with 1 Axes>"
      ]
     },
     "metadata": {
      "needs_background": "light"
     },
     "output_type": "display_data"
    },
    {
     "data": {
      "image/png": "[encoded data removed]",
      "text/plain": [
       "<Figure size 1152x360 with 1 Axes>"
      ]
     },
     "metadata": {
      "needs_background": "light"
     },
     "output_type": "display_data"
    },
    {
     "data": {
      "image/png": "[encoded data removed]",
      "text/plain": [
       "<Figure size 1152x360 with 1 Axes>"
      ]
     },
     "metadata": {
      "needs_background": "light"
     },
     "output_type": "display_data"
    },
    {
     "data": {
      "image/png": "[encoded data removed]",
      "text/plain": [
       "<Figure size 1152x360 with 1 Axes>"
      ]
     },
     "metadata": {
      "needs_background": "light"
     },
     "output_type": "display_data"
    },
    {
     "data": {
      "image/png": "[encoded data removed]",
      "text/plain": [
       "<Figure size 1152x360 with 1 Axes>"
      ]
     },
     "metadata": {
      "needs_background": "light"
     },
     "output_type": "display_data"
    },
    {
     "data": {
      "image/png": "[encoded data removed]",
      "text/plain": [
       "<Figure size 1152x360 with 1 Axes>"
      ]
     },
     "metadata": {
      "needs_background": "light"
     },
     "output_type": "display_data"
    },
    {
     "data": {
      "image/png": "[encoded data removed]",
      "text/plain": [
       "<Figure size 1152x360 with 1 Axes>"
      ]
     },
     "metadata": {
      "needs_background": "light"
     },
     "output_type": "display_data"
    },
    {
     "data": {
      "image/png": "[encoded data removed]",
      "text/plain": [
       "<Figure size 1152x360 with 1 Axes>"
      ]
     },
     "metadata": {
      "needs_background": "light"
     },
     "output_type": "display_data"
    }
   ],
   "source": [
    "for column in category_columns:\n",
    "    if(column!='native-country'): # skipping this as there are many countries\n",
    "        df[column].value_counts(dropna=False).plot(kind='bar', title=column, figsize=(16,5), rot=0)\n",
    "        plt.show()"
   ]
  },
  {
   "cell_type": "markdown",
   "id": "0a78d37d",
   "metadata": {},
   "source": [
    "**Result**: It is quite clear that our target variable is imbalanced as <=50K has roughly 75% of the total data but >50K has roughly 25% of the total data"
   ]
  },
  {
   "cell_type": "code",
   "execution_count": 15,
   "id": "b912be59",
   "metadata": {},
   "outputs": [
    {
     "data": {
      "image/png": "[encoded data removed]",
      "text/plain": [
       "<Figure size 720x720 with 1 Axes>"
      ]
     },
     "metadata": {
      "needs_background": "light"
     },
     "output_type": "display_data"
    }
   ],
   "source": [
    "# Check value counts for native country\n",
    "df['native-country'].value_counts(dropna=False).plot(kind='barh', title=column, figsize=(10,10), rot=0);"
   ]
  },
  {
   "cell_type": "code",
   "execution_count": 16,
   "id": "a1955f0d",
   "metadata": {},
   "outputs": [
    {
     "data": {
      "text/plain": [
       " United-States            8936\n",
       " Mexico                    201\n",
       "NaN                        182\n",
       " Philippines                63\n",
       " Germany                    47\n",
       " Puerto-Rico                39\n",
       " Cuba                       33\n",
       " El-Salvador                32\n",
       " England                    30\n",
       " Canada                     30\n",
       " Dominican-Republic         25\n",
       " China                      25\n",
       " Japan                      24\n",
       " South                      22\n",
       " Vietnam                    22\n",
       " Jamaica                    22\n",
       " India                      21\n",
       " Italy                      20\n",
       " Guatemala                  20\n",
       " Poland                     16\n",
       " Haiti                      16\n",
       " Columbia                   16\n",
       " Taiwan                     15\n",
       " Ireland                    13\n",
       " Iran                       13\n",
       " Nicaragua                  11\n",
       " Peru                       11\n",
       " Portugal                   11\n",
       " Ecuador                    11\n",
       " France                     10\n",
       " Trinadad&Tobago            10\n",
       " Laos                        7\n",
       " Greece                      7\n",
       " Hong                        7\n",
       " Outlying-US-Guam-USVI       6\n",
       " Cambodia                    6\n",
       " Scotland                    5\n",
       " Thailand                    5\n",
       " Honduras                    4\n",
       " Hungary                     3\n",
       " Yugoslavia                  2\n",
       "Name: native-country, dtype: int64"
      ]
     },
     "execution_count": 16,
     "metadata": {},
     "output_type": "execute_result"
    }
   ],
   "source": [
    "df['native-country'].value_counts(dropna=False)"
   ]
  },
  {
   "cell_type": "markdown",
   "id": "aded0208",
   "metadata": {},
   "source": [
    "**Result**: 'South' listed in `native-country` is not a country. so drop entries where value is 'South'."
   ]
  },
  {
   "cell_type": "markdown",
   "id": "17cd8f92",
   "metadata": {},
   "source": [
    "#### Investigation on specific features"
   ]
  },
  {
   "cell_type": "markdown",
   "id": "cac79ae0",
   "metadata": {},
   "source": [
    "Check if education and education-num are the same? "
   ]
  },
  {
   "cell_type": "code",
   "execution_count": 17,
   "id": "72e1eee8",
   "metadata": {},
   "outputs": [
    {
     "data": {
      "text/plain": [
       "education      education-num\n",
       " 10th          6                 286\n",
       " 11th          7                 348\n",
       " 12th          8                 154\n",
       " 1st-4th       2                  46\n",
       " 5th-6th       3                 123\n",
       " 7th-8th       4                 195\n",
       " 9th           5                 155\n",
       " Assoc-acdm    12                333\n",
       " Assoc-voc     11                432\n",
       " Bachelors     13               1622\n",
       " Doctorate     16                121\n",
       " HS-grad       9                3188\n",
       " Masters       14                517\n",
       " Preschool     1                  19\n",
       " Prof-school   15                172\n",
       " Some-college  10               2288\n",
       "dtype: int64"
      ]
     },
     "execution_count": 17,
     "metadata": {},
     "output_type": "execute_result"
    }
   ],
   "source": [
    "# group the DataFrame by 'education' and 'education-num', and count the occurrences in each group\n",
    "education_feature_check = df.groupby(['education', 'education-num']).size()\n",
    "# Filter it to keep only the rows with counts greater than zero,\n",
    "education_feature_check[education_feature_check!=0]"
   ]
  },
  {
   "cell_type": "markdown",
   "id": "24691848",
   "metadata": {},
   "source": [
    "**Result**: Each `education` category corresponds to only one `education-num`. This implies both represent the same information and one column can be dropped."
   ]
  },
  {
   "cell_type": "markdown",
   "id": "6dfd7b97",
   "metadata": {},
   "source": [
    "#####  Investigate the missing values of workclass and occupation"
   ]
  },
  {
   "cell_type": "code",
   "execution_count": 18,
   "id": "6e32b0de",
   "metadata": {},
   "outputs": [
    {
     "data": {
      "text/plain": [
       "(546, 15)"
      ]
     },
     "execution_count": 18,
     "metadata": {},
     "output_type": "execute_result"
    }
   ],
   "source": [
    "df[df['workclass'].isna() & df['occupation'].isna()].shape"
   ]
  },
  {
   "cell_type": "markdown",
   "id": "ae61d607",
   "metadata": {},
   "source": [
    "We can see that there are 546 records with `workclass` and `occupation` information missing, we need to decide the way of handling missing values,  we know that the target class imbalanced as <=50K has roughly 75% of the total data but >50K has roughly 25% of the total data, we need to check whether the missing values's target class contains large amount of minority class.let's examine the target variable"
   ]
  },
  {
   "cell_type": "code",
   "execution_count": 19,
   "id": "c74fab28",
   "metadata": {},
   "outputs": [
    {
     "data": {
      "image/png": "[encoded data removed]",
      "text/plain": [
       "<Figure size 504x360 with 1 Axes>"
      ]
     },
     "metadata": {
      "needs_background": "light"
     },
     "output_type": "display_data"
    }
   ],
   "source": [
    "# Hisgrame of target class of missing value dataframe\n",
    "df[df.isna().any(axis=1)]['Income-category'].value_counts(dropna=False).plot(kind='bar', title=column, figsize=(7,5), rot=0)\n",
    "plt.show()"
   ]
  },
  {
   "cell_type": "markdown",
   "id": "15037881",
   "metadata": {},
   "source": [
    "**Result**: the minority class in the dataset of missing values took 15% of total data of missing values which is not even close to 100.\n",
    "\n",
    "- Method: Based on the examination it is feasible to just drop the missing values with `workclass` and `occupation`"
   ]
  },
  {
   "cell_type": "markdown",
   "id": "fa45c850",
   "metadata": {},
   "source": [
    "#####  Summary of the issues in data and potential handling strategies"
   ]
  },
  {
   "cell_type": "markdown",
   "id": "757707d9",
   "metadata": {},
   "source": [
    "\n",
    "| Feature                 | Data Quality Issue         | Handling Strategy         |\n",
    "|-------------------------|----------------------      |------------------------   |\n",
    "|age (int64)                          |   None|Keep as is|\n",
    "workclass (category)             | Contains missing values              | drop rows with missing values       \n",
    "fnlwgt (int64)       | Too many unique values over 8000| drop this feature as no useful information can be obtained|\n",
    "education (category)             | Same as education-num       | drop feature  | \n",
    "education-num (int64)                 | None | Keep as is|   \n",
    "marital-status (category)                | None | Keep as is|\n",
    "occupation (category)    | Contains missing values (related to workclass) | drop rows with missing values   |\n",
    "relationship (category)         | This feature has similarity with marital-status | drop this feature|\n",
    "race (category)                  | None | Keep as is|   \n",
    "sex (category)                 | None | Keep as is|   \n",
    "capital-gain (int64)                    | Many values are 0 and some outliers | Keep as it as those outliers and values apart from 0 possibly contain valuble insight|   \n",
    "capital-loss (int64)             | Many values are 0 and some outliers | Keep as it as those outliers and values apart from 0 possibly contain valuble insight| \n",
    "hours-per-week (int64)               | Too many outliers | Convert to categorical data might help to obtain useful insights and smooth out outliers | \n",
    "native-country (category)        | Too many categories | Can reduce categories by considering continent rather than countries, drop invalid country \"South\", the missig values can be filled by mode |\n",
    "income                 (category) |Imbalanced target class with ratio (75% vs 25%) | Leave as is; may consider sampling strategies to balance the training dataset|"
   ]
  },
  {
   "cell_type": "markdown",
   "id": "57ba2fd0",
   "metadata": {},
   "source": [
    "##### Clean the data using the strategies:"
   ]
  },
  {
   "cell_type": "code",
   "execution_count": 20,
   "id": "321ae8c9",
   "metadata": {},
   "outputs": [],
   "source": [
    "# Keep a copy of the original data\n",
    "df_raw = df.copy()"
   ]
  },
  {
   "cell_type": "code",
   "execution_count": 21,
   "id": "1c34e965",
   "metadata": {},
   "outputs": [],
   "source": [
    "# remove additional spaces from each values\n",
    "categorical_features = df.select_dtypes(['category'])\n",
    "df[categorical_features.columns] = categorical_features.apply(lambda x: x.str.strip())"
   ]
  },
  {
   "cell_type": "code",
   "execution_count": 22,
   "id": "e78c32ac",
   "metadata": {},
   "outputs": [
    {
     "data": {
      "text/plain": [
       "age                  0\n",
       "workclass          546\n",
       "fnlwgt               0\n",
       "education            0\n",
       "education-num        0\n",
       "marital-status       0\n",
       "occupation         547\n",
       "relationship         0\n",
       "race                 0\n",
       "sex                  0\n",
       "capital-gain         0\n",
       "capital-loss         0\n",
       "hours-per-week       0\n",
       "native-country     182\n",
       "Income-category      0\n",
       "dtype: int64"
      ]
     },
     "execution_count": 22,
     "metadata": {},
     "output_type": "execute_result"
    }
   ],
   "source": [
    "df.isnull().sum()"
   ]
  },
  {
   "cell_type": "code",
   "execution_count": 23,
   "id": "26664f5e",
   "metadata": {},
   "outputs": [
    {
     "data": {
      "text/html": [
       "<div>\n",
       "<style scoped>\n",
       "    .dataframe tbody tr th:only-of-type {\n",
       "        vertical-align: middle;\n",
       "    }\n",
       "\n",
       "    .dataframe tbody tr th {\n",
       "        vertical-align: top;\n",
       "    }\n",
       "\n",
       "    .dataframe thead th {\n",
       "        text-align: right;\n",
       "    }\n",
       "</style>\n",
       "<table border=\"1\" class=\"dataframe\">\n",
       "  <thead>\n",
       "    <tr style=\"text-align: right;\">\n",
       "      <th></th>\n",
       "      <th>age</th>\n",
       "      <th>workclass</th>\n",
       "      <th>education-num</th>\n",
       "      <th>marital-status</th>\n",
       "      <th>occupation</th>\n",
       "      <th>race</th>\n",
       "      <th>sex</th>\n",
       "      <th>capital-gain</th>\n",
       "      <th>capital-loss</th>\n",
       "      <th>hours-per-week</th>\n",
       "      <th>native-country</th>\n",
       "      <th>Income-category</th>\n",
       "    </tr>\n",
       "  </thead>\n",
       "  <tbody>\n",
       "    <tr>\n",
       "      <th>0</th>\n",
       "      <td>21</td>\n",
       "      <td>Private</td>\n",
       "      <td>11</td>\n",
       "      <td>Never-married</td>\n",
       "      <td>Machine-op-inspct</td>\n",
       "      <td>White</td>\n",
       "      <td>Male</td>\n",
       "      <td>0</td>\n",
       "      <td>0</td>\n",
       "      <td>30</td>\n",
       "      <td>United-States</td>\n",
       "      <td>&lt;=50K</td>\n",
       "    </tr>\n",
       "    <tr>\n",
       "      <th>1</th>\n",
       "      <td>58</td>\n",
       "      <td>NaN</td>\n",
       "      <td>10</td>\n",
       "      <td>Married-civ-spouse</td>\n",
       "      <td>NaN</td>\n",
       "      <td>White</td>\n",
       "      <td>Male</td>\n",
       "      <td>99999</td>\n",
       "      <td>0</td>\n",
       "      <td>40</td>\n",
       "      <td>United-States</td>\n",
       "      <td>&gt;50K</td>\n",
       "    </tr>\n",
       "    <tr>\n",
       "      <th>2</th>\n",
       "      <td>39</td>\n",
       "      <td>Private</td>\n",
       "      <td>9</td>\n",
       "      <td>Married-civ-spouse</td>\n",
       "      <td>Machine-op-inspct</td>\n",
       "      <td>White</td>\n",
       "      <td>Male</td>\n",
       "      <td>0</td>\n",
       "      <td>0</td>\n",
       "      <td>40</td>\n",
       "      <td>United-States</td>\n",
       "      <td>&lt;=50K</td>\n",
       "    </tr>\n",
       "    <tr>\n",
       "      <th>3</th>\n",
       "      <td>42</td>\n",
       "      <td>Private</td>\n",
       "      <td>9</td>\n",
       "      <td>Married-civ-spouse</td>\n",
       "      <td>Craft-repair</td>\n",
       "      <td>White</td>\n",
       "      <td>Male</td>\n",
       "      <td>0</td>\n",
       "      <td>0</td>\n",
       "      <td>40</td>\n",
       "      <td>United-States</td>\n",
       "      <td>&gt;50K</td>\n",
       "    </tr>\n",
       "    <tr>\n",
       "      <th>4</th>\n",
       "      <td>48</td>\n",
       "      <td>Private</td>\n",
       "      <td>14</td>\n",
       "      <td>Divorced</td>\n",
       "      <td>Exec-managerial</td>\n",
       "      <td>White</td>\n",
       "      <td>Female</td>\n",
       "      <td>0</td>\n",
       "      <td>0</td>\n",
       "      <td>40</td>\n",
       "      <td>United-States</td>\n",
       "      <td>&gt;50K</td>\n",
       "    </tr>\n",
       "    <tr>\n",
       "      <th>...</th>\n",
       "      <td>...</td>\n",
       "      <td>...</td>\n",
       "      <td>...</td>\n",
       "      <td>...</td>\n",
       "      <td>...</td>\n",
       "      <td>...</td>\n",
       "      <td>...</td>\n",
       "      <td>...</td>\n",
       "      <td>...</td>\n",
       "      <td>...</td>\n",
       "      <td>...</td>\n",
       "      <td>...</td>\n",
       "    </tr>\n",
       "    <tr>\n",
       "      <th>9995</th>\n",
       "      <td>26</td>\n",
       "      <td>Private</td>\n",
       "      <td>10</td>\n",
       "      <td>Married-civ-spouse</td>\n",
       "      <td>Adm-clerical</td>\n",
       "      <td>White</td>\n",
       "      <td>Male</td>\n",
       "      <td>0</td>\n",
       "      <td>0</td>\n",
       "      <td>40</td>\n",
       "      <td>United-States</td>\n",
       "      <td>&gt;50K</td>\n",
       "    </tr>\n",
       "    <tr>\n",
       "      <th>9996</th>\n",
       "      <td>31</td>\n",
       "      <td>State-gov</td>\n",
       "      <td>9</td>\n",
       "      <td>Divorced</td>\n",
       "      <td>Protective-serv</td>\n",
       "      <td>Other</td>\n",
       "      <td>Male</td>\n",
       "      <td>0</td>\n",
       "      <td>0</td>\n",
       "      <td>40</td>\n",
       "      <td>United-States</td>\n",
       "      <td>&lt;=50K</td>\n",
       "    </tr>\n",
       "    <tr>\n",
       "      <th>9997</th>\n",
       "      <td>44</td>\n",
       "      <td>Private</td>\n",
       "      <td>9</td>\n",
       "      <td>Never-married</td>\n",
       "      <td>Other-service</td>\n",
       "      <td>Black</td>\n",
       "      <td>Female</td>\n",
       "      <td>0</td>\n",
       "      <td>0</td>\n",
       "      <td>38</td>\n",
       "      <td>United-States</td>\n",
       "      <td>&lt;=50K</td>\n",
       "    </tr>\n",
       "    <tr>\n",
       "      <th>9998</th>\n",
       "      <td>20</td>\n",
       "      <td>Self-emp-not-inc</td>\n",
       "      <td>9</td>\n",
       "      <td>Never-married</td>\n",
       "      <td>Farming-fishing</td>\n",
       "      <td>White</td>\n",
       "      <td>Male</td>\n",
       "      <td>0</td>\n",
       "      <td>0</td>\n",
       "      <td>40</td>\n",
       "      <td>United-States</td>\n",
       "      <td>&lt;=50K</td>\n",
       "    </tr>\n",
       "    <tr>\n",
       "      <th>9999</th>\n",
       "      <td>21</td>\n",
       "      <td>Private</td>\n",
       "      <td>9</td>\n",
       "      <td>Never-married</td>\n",
       "      <td>Other-service</td>\n",
       "      <td>White</td>\n",
       "      <td>Male</td>\n",
       "      <td>0</td>\n",
       "      <td>0</td>\n",
       "      <td>35</td>\n",
       "      <td>United-States</td>\n",
       "      <td>&lt;=50K</td>\n",
       "    </tr>\n",
       "  </tbody>\n",
       "</table>\n",
       "<p>9977 rows × 12 columns</p>\n",
       "</div>"
      ],
      "text/plain": [
       "      age         workclass  education-num      marital-status  \\\n",
       "0      21           Private             11       Never-married   \n",
       "1      58               NaN             10  Married-civ-spouse   \n",
       "2      39           Private              9  Married-civ-spouse   \n",
       "3      42           Private              9  Married-civ-spouse   \n",
       "4      48           Private             14            Divorced   \n",
       "...   ...               ...            ...                 ...   \n",
       "9995   26           Private             10  Married-civ-spouse   \n",
       "9996   31         State-gov              9            Divorced   \n",
       "9997   44           Private              9       Never-married   \n",
       "9998   20  Self-emp-not-inc              9       Never-married   \n",
       "9999   21           Private              9       Never-married   \n",
       "\n",
       "             occupation   race     sex  capital-gain  capital-loss  \\\n",
       "0     Machine-op-inspct  White    Male             0             0   \n",
       "1                   NaN  White    Male         99999             0   \n",
       "2     Machine-op-inspct  White    Male             0             0   \n",
       "3          Craft-repair  White    Male             0             0   \n",
       "4       Exec-managerial  White  Female             0             0   \n",
       "...                 ...    ...     ...           ...           ...   \n",
       "9995       Adm-clerical  White    Male             0             0   \n",
       "9996    Protective-serv  Other    Male             0             0   \n",
       "9997      Other-service  Black  Female             0             0   \n",
       "9998    Farming-fishing  White    Male             0             0   \n",
       "9999      Other-service  White    Male             0             0   \n",
       "\n",
       "      hours-per-week native-country Income-category  \n",
       "0                 30  United-States           <=50K  \n",
       "1                 40  United-States            >50K  \n",
       "2                 40  United-States           <=50K  \n",
       "3                 40  United-States            >50K  \n",
       "4                 40  United-States            >50K  \n",
       "...              ...            ...             ...  \n",
       "9995              40  United-States            >50K  \n",
       "9996              40  United-States           <=50K  \n",
       "9997              38  United-States           <=50K  \n",
       "9998              40  United-States           <=50K  \n",
       "9999              35  United-States           <=50K  \n",
       "\n",
       "[9977 rows x 12 columns]"
      ]
     },
     "execution_count": 23,
     "metadata": {},
     "output_type": "execute_result"
    }
   ],
   "source": [
    "# Drop columns\n",
    "df = df.drop(['fnlwgt', 'education', 'relationship'], axis=1)\n",
    "mask = df['native-country'] == 'South'\n",
    "df = df[~mask]\n",
    "df"
   ]
  },
  {
   "cell_type": "code",
   "execution_count": 24,
   "id": "7472936e",
   "metadata": {},
   "outputs": [
    {
     "data": {
      "text/plain": [
       "age                  0\n",
       "workclass          545\n",
       "education-num        0\n",
       "marital-status       0\n",
       "occupation         546\n",
       "race                 0\n",
       "sex                  0\n",
       "capital-gain         0\n",
       "capital-loss         0\n",
       "hours-per-week       0\n",
       "native-country     182\n",
       "Income-category      0\n",
       "dtype: int64"
      ]
     },
     "execution_count": 24,
     "metadata": {},
     "output_type": "execute_result"
    }
   ],
   "source": [
    "df.isnull().sum()"
   ]
  },
  {
   "cell_type": "code",
   "execution_count": 25,
   "id": "a81fa86c",
   "metadata": {},
   "outputs": [
    {
     "data": {
      "text/plain": [
       "age                  0\n",
       "workclass            0\n",
       "education-num        0\n",
       "marital-status       0\n",
       "occupation           0\n",
       "race                 0\n",
       "sex                  0\n",
       "capital-gain         0\n",
       "capital-loss         0\n",
       "hours-per-week       0\n",
       "native-country     175\n",
       "Income-category      0\n",
       "dtype: int64"
      ]
     },
     "execution_count": 25,
     "metadata": {},
     "output_type": "execute_result"
    }
   ],
   "source": [
    "df.dropna(subset=['workclass','occupation'], inplace=True)\n",
    "df.isnull().sum()"
   ]
  },
  {
   "cell_type": "code",
   "execution_count": 26,
   "id": "942a1ddd",
   "metadata": {},
   "outputs": [
    {
     "data": {
      "text/html": [
       "<div>\n",
       "<style scoped>\n",
       "    .dataframe tbody tr th:only-of-type {\n",
       "        vertical-align: middle;\n",
       "    }\n",
       "\n",
       "    .dataframe tbody tr th {\n",
       "        vertical-align: top;\n",
       "    }\n",
       "\n",
       "    .dataframe thead th {\n",
       "        text-align: right;\n",
       "    }\n",
       "</style>\n",
       "<table border=\"1\" class=\"dataframe\">\n",
       "  <thead>\n",
       "    <tr style=\"text-align: right;\">\n",
       "      <th></th>\n",
       "      <th>native-country</th>\n",
       "      <th>race</th>\n",
       "      <th>count</th>\n",
       "    </tr>\n",
       "  </thead>\n",
       "  <tbody>\n",
       "    <tr>\n",
       "      <th>0</th>\n",
       "      <td>Cambodia</td>\n",
       "      <td>Asian-Pac-Islander</td>\n",
       "      <td>6</td>\n",
       "    </tr>\n",
       "    <tr>\n",
       "      <th>1</th>\n",
       "      <td>Canada</td>\n",
       "      <td>Asian-Pac-Islander</td>\n",
       "      <td>1</td>\n",
       "    </tr>\n",
       "    <tr>\n",
       "      <th>2</th>\n",
       "      <td>Canada</td>\n",
       "      <td>White</td>\n",
       "      <td>21</td>\n",
       "    </tr>\n",
       "    <tr>\n",
       "      <th>3</th>\n",
       "      <td>China</td>\n",
       "      <td>Asian-Pac-Islander</td>\n",
       "      <td>24</td>\n",
       "    </tr>\n",
       "    <tr>\n",
       "      <th>4</th>\n",
       "      <td>China</td>\n",
       "      <td>White</td>\n",
       "      <td>1</td>\n",
       "    </tr>\n",
       "    <tr>\n",
       "      <th>...</th>\n",
       "      <td>...</td>\n",
       "      <td>...</td>\n",
       "      <td>...</td>\n",
       "    </tr>\n",
       "    <tr>\n",
       "      <th>77</th>\n",
       "      <td>United-States</td>\n",
       "      <td>Other</td>\n",
       "      <td>36</td>\n",
       "    </tr>\n",
       "    <tr>\n",
       "      <th>78</th>\n",
       "      <td>United-States</td>\n",
       "      <td>White</td>\n",
       "      <td>7437</td>\n",
       "    </tr>\n",
       "    <tr>\n",
       "      <th>79</th>\n",
       "      <td>Vietnam</td>\n",
       "      <td>Asian-Pac-Islander</td>\n",
       "      <td>18</td>\n",
       "    </tr>\n",
       "    <tr>\n",
       "      <th>80</th>\n",
       "      <td>Vietnam</td>\n",
       "      <td>White</td>\n",
       "      <td>2</td>\n",
       "    </tr>\n",
       "    <tr>\n",
       "      <th>81</th>\n",
       "      <td>Yugoslavia</td>\n",
       "      <td>White</td>\n",
       "      <td>2</td>\n",
       "    </tr>\n",
       "  </tbody>\n",
       "</table>\n",
       "<p>82 rows × 3 columns</p>\n",
       "</div>"
      ],
      "text/plain": [
       "   native-country                race  count\n",
       "0        Cambodia  Asian-Pac-Islander      6\n",
       "1          Canada  Asian-Pac-Islander      1\n",
       "2          Canada               White     21\n",
       "3           China  Asian-Pac-Islander     24\n",
       "4           China               White      1\n",
       "..            ...                 ...    ...\n",
       "77  United-States               Other     36\n",
       "78  United-States               White   7437\n",
       "79        Vietnam  Asian-Pac-Islander     18\n",
       "80        Vietnam               White      2\n",
       "81     Yugoslavia               White      2\n",
       "\n",
       "[82 rows x 3 columns]"
      ]
     },
     "execution_count": 26,
     "metadata": {},
     "output_type": "execute_result"
    }
   ],
   "source": [
    "nativeCountryRace = df.groupby(['native-country', 'race']).size().reset_index()\n",
    "nativeCountryRace = nativeCountryRace.rename(columns={0: 'count'})\n",
    "nativeCountryRace"
   ]
  },
  {
   "cell_type": "code",
   "execution_count": 27,
   "id": "0cc6edf0",
   "metadata": {},
   "outputs": [
    {
     "data": {
      "text/html": [
       "<div>\n",
       "<style scoped>\n",
       "    .dataframe tbody tr th:only-of-type {\n",
       "        vertical-align: middle;\n",
       "    }\n",
       "\n",
       "    .dataframe tbody tr th {\n",
       "        vertical-align: top;\n",
       "    }\n",
       "\n",
       "    .dataframe thead th {\n",
       "        text-align: right;\n",
       "    }\n",
       "</style>\n",
       "<table border=\"1\" class=\"dataframe\">\n",
       "  <thead>\n",
       "    <tr style=\"text-align: right;\">\n",
       "      <th></th>\n",
       "      <th>native-country</th>\n",
       "      <th>race</th>\n",
       "      <th>count</th>\n",
       "    </tr>\n",
       "  </thead>\n",
       "  <tbody>\n",
       "    <tr>\n",
       "      <th>78</th>\n",
       "      <td>United-States</td>\n",
       "      <td>White</td>\n",
       "      <td>7437</td>\n",
       "    </tr>\n",
       "    <tr>\n",
       "      <th>49</th>\n",
       "      <td>Mexico</td>\n",
       "      <td>White</td>\n",
       "      <td>172</td>\n",
       "    </tr>\n",
       "    <tr>\n",
       "      <th>23</th>\n",
       "      <td>Germany</td>\n",
       "      <td>White</td>\n",
       "      <td>42</td>\n",
       "    </tr>\n",
       "    <tr>\n",
       "      <th>8</th>\n",
       "      <td>Cuba</td>\n",
       "      <td>White</td>\n",
       "      <td>30</td>\n",
       "    </tr>\n",
       "    <tr>\n",
       "      <th>15</th>\n",
       "      <td>El-Salvador</td>\n",
       "      <td>White</td>\n",
       "      <td>29</td>\n",
       "    </tr>\n",
       "  </tbody>\n",
       "</table>\n",
       "</div>"
      ],
      "text/plain": [
       "   native-country   race  count\n",
       "78  United-States  White   7437\n",
       "49         Mexico  White    172\n",
       "23        Germany  White     42\n",
       "8            Cuba  White     30\n",
       "15    El-Salvador  White     29"
      ]
     },
     "execution_count": 27,
     "metadata": {},
     "output_type": "execute_result"
    }
   ],
   "source": [
    "nativeCountryRace[nativeCountryRace['race']=='White'].sort_values('count', ascending=False)[:5]"
   ]
  },
  {
   "cell_type": "code",
   "execution_count": 28,
   "id": "c97c73ff",
   "metadata": {},
   "outputs": [
    {
     "data": {
      "text/html": [
       "<div>\n",
       "<style scoped>\n",
       "    .dataframe tbody tr th:only-of-type {\n",
       "        vertical-align: middle;\n",
       "    }\n",
       "\n",
       "    .dataframe tbody tr th {\n",
       "        vertical-align: top;\n",
       "    }\n",
       "\n",
       "    .dataframe thead th {\n",
       "        text-align: right;\n",
       "    }\n",
       "</style>\n",
       "<table border=\"1\" class=\"dataframe\">\n",
       "  <thead>\n",
       "    <tr style=\"text-align: right;\">\n",
       "      <th></th>\n",
       "      <th>native-country</th>\n",
       "      <th>race</th>\n",
       "      <th>count</th>\n",
       "    </tr>\n",
       "  </thead>\n",
       "  <tbody>\n",
       "    <tr>\n",
       "      <th>76</th>\n",
       "      <td>United-States</td>\n",
       "      <td>Black</td>\n",
       "      <td>823</td>\n",
       "    </tr>\n",
       "    <tr>\n",
       "      <th>38</th>\n",
       "      <td>Jamaica</td>\n",
       "      <td>Black</td>\n",
       "      <td>21</td>\n",
       "    </tr>\n",
       "    <tr>\n",
       "      <th>27</th>\n",
       "      <td>Haiti</td>\n",
       "      <td>Black</td>\n",
       "      <td>14</td>\n",
       "    </tr>\n",
       "    <tr>\n",
       "      <th>72</th>\n",
       "      <td>Trinadad&amp;Tobago</td>\n",
       "      <td>Black</td>\n",
       "      <td>8</td>\n",
       "    </tr>\n",
       "    <tr>\n",
       "      <th>9</th>\n",
       "      <td>Dominican-Republic</td>\n",
       "      <td>Black</td>\n",
       "      <td>5</td>\n",
       "    </tr>\n",
       "  </tbody>\n",
       "</table>\n",
       "</div>"
      ],
      "text/plain": [
       "        native-country   race  count\n",
       "76       United-States  Black    823\n",
       "38             Jamaica  Black     21\n",
       "27               Haiti  Black     14\n",
       "72     Trinadad&Tobago  Black      8\n",
       "9   Dominican-Republic  Black      5"
      ]
     },
     "execution_count": 28,
     "metadata": {},
     "output_type": "execute_result"
    }
   ],
   "source": [
    "nativeCountryRace[nativeCountryRace['race']=='Black'].sort_values('count', ascending=False)[:5]"
   ]
  },
  {
   "cell_type": "code",
   "execution_count": 29,
   "id": "2d085349",
   "metadata": {},
   "outputs": [
    {
     "data": {
      "text/html": [
       "<div>\n",
       "<style scoped>\n",
       "    .dataframe tbody tr th:only-of-type {\n",
       "        vertical-align: middle;\n",
       "    }\n",
       "\n",
       "    .dataframe tbody tr th {\n",
       "        vertical-align: top;\n",
       "    }\n",
       "\n",
       "    .dataframe thead th {\n",
       "        text-align: right;\n",
       "    }\n",
       "</style>\n",
       "<table border=\"1\" class=\"dataframe\">\n",
       "  <thead>\n",
       "    <tr style=\"text-align: right;\">\n",
       "      <th></th>\n",
       "      <th>native-country</th>\n",
       "      <th>race</th>\n",
       "      <th>count</th>\n",
       "    </tr>\n",
       "  </thead>\n",
       "  <tbody>\n",
       "    <tr>\n",
       "      <th>75</th>\n",
       "      <td>United-States</td>\n",
       "      <td>Asian-Pac-Islander</td>\n",
       "      <td>77</td>\n",
       "    </tr>\n",
       "    <tr>\n",
       "      <th>57</th>\n",
       "      <td>Philippines</td>\n",
       "      <td>Asian-Pac-Islander</td>\n",
       "      <td>56</td>\n",
       "    </tr>\n",
       "    <tr>\n",
       "      <th>3</th>\n",
       "      <td>China</td>\n",
       "      <td>Asian-Pac-Islander</td>\n",
       "      <td>24</td>\n",
       "    </tr>\n",
       "    <tr>\n",
       "      <th>79</th>\n",
       "      <td>Vietnam</td>\n",
       "      <td>Asian-Pac-Islander</td>\n",
       "      <td>18</td>\n",
       "    </tr>\n",
       "    <tr>\n",
       "      <th>31</th>\n",
       "      <td>India</td>\n",
       "      <td>Asian-Pac-Islander</td>\n",
       "      <td>18</td>\n",
       "    </tr>\n",
       "  </tbody>\n",
       "</table>\n",
       "</div>"
      ],
      "text/plain": [
       "   native-country                race  count\n",
       "75  United-States  Asian-Pac-Islander     77\n",
       "57    Philippines  Asian-Pac-Islander     56\n",
       "3           China  Asian-Pac-Islander     24\n",
       "79        Vietnam  Asian-Pac-Islander     18\n",
       "31          India  Asian-Pac-Islander     18"
      ]
     },
     "execution_count": 29,
     "metadata": {},
     "output_type": "execute_result"
    }
   ],
   "source": [
    "nativeCountryRace[nativeCountryRace['race']=='Asian-Pac-Islander'].sort_values('count', ascending=False)[:5]"
   ]
  },
  {
   "cell_type": "code",
   "execution_count": 30,
   "id": "18a2822b",
   "metadata": {},
   "outputs": [
    {
     "data": {
      "text/html": [
       "<div>\n",
       "<style scoped>\n",
       "    .dataframe tbody tr th:only-of-type {\n",
       "        vertical-align: middle;\n",
       "    }\n",
       "\n",
       "    .dataframe tbody tr th {\n",
       "        vertical-align: top;\n",
       "    }\n",
       "\n",
       "    .dataframe thead th {\n",
       "        text-align: right;\n",
       "    }\n",
       "</style>\n",
       "<table border=\"1\" class=\"dataframe\">\n",
       "  <thead>\n",
       "    <tr style=\"text-align: right;\">\n",
       "      <th></th>\n",
       "      <th>native-country</th>\n",
       "      <th>race</th>\n",
       "      <th>count</th>\n",
       "    </tr>\n",
       "  </thead>\n",
       "  <tbody>\n",
       "    <tr>\n",
       "      <th>77</th>\n",
       "      <td>United-States</td>\n",
       "      <td>Other</td>\n",
       "      <td>36</td>\n",
       "    </tr>\n",
       "    <tr>\n",
       "      <th>48</th>\n",
       "      <td>Mexico</td>\n",
       "      <td>Other</td>\n",
       "      <td>12</td>\n",
       "    </tr>\n",
       "    <tr>\n",
       "      <th>65</th>\n",
       "      <td>Puerto-Rico</td>\n",
       "      <td>Other</td>\n",
       "      <td>7</td>\n",
       "    </tr>\n",
       "    <tr>\n",
       "      <th>10</th>\n",
       "      <td>Dominican-Republic</td>\n",
       "      <td>Other</td>\n",
       "      <td>5</td>\n",
       "    </tr>\n",
       "    <tr>\n",
       "      <th>12</th>\n",
       "      <td>Ecuador</td>\n",
       "      <td>Other</td>\n",
       "      <td>4</td>\n",
       "    </tr>\n",
       "  </tbody>\n",
       "</table>\n",
       "</div>"
      ],
      "text/plain": [
       "        native-country   race  count\n",
       "77       United-States  Other     36\n",
       "48              Mexico  Other     12\n",
       "65         Puerto-Rico  Other      7\n",
       "10  Dominican-Republic  Other      5\n",
       "12             Ecuador  Other      4"
      ]
     },
     "execution_count": 30,
     "metadata": {},
     "output_type": "execute_result"
    }
   ],
   "source": [
    "nativeCountryRace[nativeCountryRace['race']=='Other'].sort_values('count', ascending=False)[:5]"
   ]
  },
  {
   "cell_type": "code",
   "execution_count": 31,
   "id": "bcdec6f2",
   "metadata": {},
   "outputs": [
    {
     "data": {
      "text/html": [
       "<div>\n",
       "<style scoped>\n",
       "    .dataframe tbody tr th:only-of-type {\n",
       "        vertical-align: middle;\n",
       "    }\n",
       "\n",
       "    .dataframe tbody tr th {\n",
       "        vertical-align: top;\n",
       "    }\n",
       "\n",
       "    .dataframe thead th {\n",
       "        text-align: right;\n",
       "    }\n",
       "</style>\n",
       "<table border=\"1\" class=\"dataframe\">\n",
       "  <thead>\n",
       "    <tr style=\"text-align: right;\">\n",
       "      <th></th>\n",
       "      <th>native-country</th>\n",
       "      <th>race</th>\n",
       "      <th>count</th>\n",
       "    </tr>\n",
       "  </thead>\n",
       "  <tbody>\n",
       "    <tr>\n",
       "      <th>74</th>\n",
       "      <td>United-States</td>\n",
       "      <td>Amer-Indian-Eskimo</td>\n",
       "      <td>80</td>\n",
       "    </tr>\n",
       "    <tr>\n",
       "      <th>45</th>\n",
       "      <td>Mexico</td>\n",
       "      <td>Amer-Indian-Eskimo</td>\n",
       "      <td>3</td>\n",
       "    </tr>\n",
       "    <tr>\n",
       "      <th>20</th>\n",
       "      <td>Germany</td>\n",
       "      <td>Amer-Indian-Eskimo</td>\n",
       "      <td>1</td>\n",
       "    </tr>\n",
       "  </tbody>\n",
       "</table>\n",
       "</div>"
      ],
      "text/plain": [
       "   native-country                race  count\n",
       "74  United-States  Amer-Indian-Eskimo     80\n",
       "45         Mexico  Amer-Indian-Eskimo      3\n",
       "20        Germany  Amer-Indian-Eskimo      1"
      ]
     },
     "execution_count": 31,
     "metadata": {},
     "output_type": "execute_result"
    }
   ],
   "source": [
    "nativeCountryRace[nativeCountryRace['race']=='Amer-Indian-Eskimo'].sort_values('count', ascending=False)[:5]"
   ]
  },
  {
   "cell_type": "markdown",
   "id": "609a4423",
   "metadata": {},
   "source": [
    "The most frequent category in native-country is United-States for all unique races so we can fill the missing values in native-country by United-States"
   ]
  },
  {
   "cell_type": "code",
   "execution_count": 32,
   "id": "b0a29585",
   "metadata": {},
   "outputs": [
    {
     "data": {
      "text/plain": [
       "(0, 12)"
      ]
     },
     "execution_count": 32,
     "metadata": {},
     "output_type": "execute_result"
    }
   ],
   "source": [
    "df['native-country'] = df['native-country'].replace(np.nan, 'United-States')\n",
    "df[df['native-country'].isna()].shape"
   ]
  },
  {
   "cell_type": "code",
   "execution_count": 33,
   "id": "502f69e2",
   "metadata": {},
   "outputs": [],
   "source": [
    "region = {'Asia_East': [\"Cambodia\", \"China\", \"Hong\", \"Laos\", \"Thailand\", \"Japan\", \"Taiwan\", \"Vietnam\", 'Philippines'],\n",
    "          'Asia_Central' : [\"India\", \"Iran\"],\n",
    "          'Central_America' : [\"Cuba\", \"Guatemala\", \"Jamaica\", \"Nicaragua\", \"Puerto-Rico\",  \"Dominican-Republic\", \n",
    "                               \"El-Salvador\", \"Haiti\", \"Honduras\", \"Mexico\", \"Trinadad&Tobago\"],\n",
    "          'South_America' : [\"Ecuador\", \"Peru\", \"Columbia\"],\n",
    "          \"North_America\": [\"United-States\", \"Canada\", 'Outlying-US-Guam-USVI'],\n",
    "          'Europe_West' : [\"England\", \"Germany\", \"Holand-Netherlands\", \"Ireland\", \"France\", \"Greece\", \n",
    "                           \"Italy\", \"Portugal\", \"Scotland\"],\n",
    "          'Europe_East': [\"Poland\", \"Yugoslavia\", \"Hungary\"]}"
   ]
  },
  {
   "cell_type": "code",
   "execution_count": 34,
   "id": "4a689a22",
   "metadata": {},
   "outputs": [],
   "source": [
    "def map_country_to_region(country):\n",
    "    for region_name, countries in region.items():\n",
    "        if country in countries:\n",
    "            return region_name\n",
    "    return None"
   ]
  },
  {
   "cell_type": "code",
   "execution_count": 35,
   "id": "af54330d",
   "metadata": {},
   "outputs": [],
   "source": [
    "df['native-region'] = df['native-country'].apply(map_country_to_region)"
   ]
  },
  {
   "cell_type": "code",
   "execution_count": 36,
   "id": "77cad1d9",
   "metadata": {},
   "outputs": [],
   "source": [
    "df = df.drop(['native-country'], axis=1)"
   ]
  },
  {
   "cell_type": "markdown",
   "id": "4f38ecb6",
   "metadata": {},
   "source": [
    "Handling numerical values using bucketing ( binning continuous variables where each bin represents a range of values) and convert them into categorical variables"
   ]
  },
  {
   "cell_type": "code",
   "execution_count": 37,
   "id": "2440b3e3",
   "metadata": {},
   "outputs": [
    {
     "data": {
      "text/html": [
       "<div>\n",
       "<style scoped>\n",
       "    .dataframe tbody tr th:only-of-type {\n",
       "        vertical-align: middle;\n",
       "    }\n",
       "\n",
       "    .dataframe tbody tr th {\n",
       "        vertical-align: top;\n",
       "    }\n",
       "\n",
       "    .dataframe thead th {\n",
       "        text-align: right;\n",
       "    }\n",
       "</style>\n",
       "<table border=\"1\" class=\"dataframe\">\n",
       "  <thead>\n",
       "    <tr style=\"text-align: right;\">\n",
       "      <th></th>\n",
       "      <th>count</th>\n",
       "      <th>mean</th>\n",
       "      <th>std</th>\n",
       "      <th>min</th>\n",
       "      <th>25%</th>\n",
       "      <th>50%</th>\n",
       "      <th>75%</th>\n",
       "      <th>max</th>\n",
       "    </tr>\n",
       "  </thead>\n",
       "  <tbody>\n",
       "    <tr>\n",
       "      <th>age</th>\n",
       "      <td>9431.0</td>\n",
       "      <td>38.433782</td>\n",
       "      <td>13.145746</td>\n",
       "      <td>17.0</td>\n",
       "      <td>28.0</td>\n",
       "      <td>37.0</td>\n",
       "      <td>47.0</td>\n",
       "      <td>90.0</td>\n",
       "    </tr>\n",
       "    <tr>\n",
       "      <th>education-num</th>\n",
       "      <td>9431.0</td>\n",
       "      <td>10.109532</td>\n",
       "      <td>2.554306</td>\n",
       "      <td>1.0</td>\n",
       "      <td>9.0</td>\n",
       "      <td>10.0</td>\n",
       "      <td>12.0</td>\n",
       "      <td>16.0</td>\n",
       "    </tr>\n",
       "    <tr>\n",
       "      <th>capital-gain</th>\n",
       "      <td>9431.0</td>\n",
       "      <td>1089.635988</td>\n",
       "      <td>7330.610912</td>\n",
       "      <td>0.0</td>\n",
       "      <td>0.0</td>\n",
       "      <td>0.0</td>\n",
       "      <td>0.0</td>\n",
       "      <td>99999.0</td>\n",
       "    </tr>\n",
       "    <tr>\n",
       "      <th>capital-loss</th>\n",
       "      <td>9431.0</td>\n",
       "      <td>89.592620</td>\n",
       "      <td>407.029406</td>\n",
       "      <td>0.0</td>\n",
       "      <td>0.0</td>\n",
       "      <td>0.0</td>\n",
       "      <td>0.0</td>\n",
       "      <td>3770.0</td>\n",
       "    </tr>\n",
       "    <tr>\n",
       "      <th>hours-per-week</th>\n",
       "      <td>9431.0</td>\n",
       "      <td>40.856113</td>\n",
       "      <td>11.999919</td>\n",
       "      <td>1.0</td>\n",
       "      <td>40.0</td>\n",
       "      <td>40.0</td>\n",
       "      <td>45.0</td>\n",
       "      <td>99.0</td>\n",
       "    </tr>\n",
       "  </tbody>\n",
       "</table>\n",
       "</div>"
      ],
      "text/plain": [
       "                 count         mean          std   min   25%   50%   75%  \\\n",
       "age             9431.0    38.433782    13.145746  17.0  28.0  37.0  47.0   \n",
       "education-num   9431.0    10.109532     2.554306   1.0   9.0  10.0  12.0   \n",
       "capital-gain    9431.0  1089.635988  7330.610912   0.0   0.0   0.0   0.0   \n",
       "capital-loss    9431.0    89.592620   407.029406   0.0   0.0   0.0   0.0   \n",
       "hours-per-week  9431.0    40.856113    11.999919   1.0  40.0  40.0  45.0   \n",
       "\n",
       "                    max  \n",
       "age                90.0  \n",
       "education-num      16.0  \n",
       "capital-gain    99999.0  \n",
       "capital-loss     3770.0  \n",
       "hours-per-week     99.0  "
      ]
     },
     "execution_count": 37,
     "metadata": {},
     "output_type": "execute_result"
    }
   ],
   "source": [
    "df.describe().T"
   ]
  },
  {
   "cell_type": "code",
   "execution_count": 38,
   "id": "9e57550f",
   "metadata": {},
   "outputs": [
    {
     "data": {
      "text/plain": [
       "count    9431.000000\n",
       "mean       40.856113\n",
       "std        11.999919\n",
       "min         1.000000\n",
       "25%        40.000000\n",
       "50%        40.000000\n",
       "75%        45.000000\n",
       "max        99.000000\n",
       "Name: hours-per-week, dtype: float64"
      ]
     },
     "execution_count": 38,
     "metadata": {},
     "output_type": "execute_result"
    }
   ],
   "source": [
    "df['hours-per-week'].describe()"
   ]
  },
  {
   "cell_type": "code",
   "execution_count": 39,
   "id": "574b043b",
   "metadata": {},
   "outputs": [
    {
     "data": {
      "image/png": "[encoded data removed]",
      "text/plain": [
       "<Figure size 360x360 with 1 Axes>"
      ]
     },
     "metadata": {
      "needs_background": "light"
     },
     "output_type": "display_data"
    }
   ],
   "source": [
    "df['hours-per-week'].plot(kind='box', subplots=True, figsize=(5,5));"
   ]
  },
  {
   "cell_type": "markdown",
   "id": "ca529fc5",
   "metadata": {},
   "source": [
    "Hours-per-week:\n",
    "\n",
    "We can see that the first quartile to third quartile are all 40 hours so we can do conversion to category on this feature.\n",
    "Convert this numerical feature to categorical feature by turning all the number to three different category( low, median, high), any values less than the first quartile of the hours-per-week (which is equal to 40) would be marked as “Low” , any values between first quartile and third quartile would be marked as median (between 40 and 45), any values greater than 40 would be marked as high."
   ]
  },
  {
   "cell_type": "code",
   "execution_count": 40,
   "id": "d133ade2",
   "metadata": {},
   "outputs": [],
   "source": [
    "low = (df['hours-per-week']< 40)\n",
    "median = ((df['hours-per-week']>= 40) & (df['hours-per-week']<= 45))\n",
    "high = (df['hours-per-week']> 45)\n",
    "\n",
    "vals = [ \"Low\", \"Medium\", \"High\"]\n",
    "\n",
    "df['hours-per-week'] = np.select([low,median,high], vals)"
   ]
  },
  {
   "cell_type": "code",
   "execution_count": 41,
   "id": "138054e6",
   "metadata": {},
   "outputs": [
    {
     "name": "stdout",
     "output_type": "stream",
     "text": [
      "Medium    5138\n",
      "High      2158\n",
      "Low       2135\n",
      "Name: hours-per-week, dtype: int64 \n",
      "\n"
     ]
    }
   ],
   "source": [
    "converted_columns = ['hours-per-week']\n",
    "for column in converted_columns:\n",
    "    print(df[column].value_counts(), '\\n')"
   ]
  },
  {
   "cell_type": "code",
   "execution_count": 42,
   "id": "d1147f0f",
   "metadata": {},
   "outputs": [
    {
     "data": {
      "text/plain": [
       "age                0\n",
       "workclass          0\n",
       "education-num      0\n",
       "marital-status     0\n",
       "occupation         0\n",
       "race               0\n",
       "sex                0\n",
       "capital-gain       0\n",
       "capital-loss       0\n",
       "hours-per-week     0\n",
       "Income-category    0\n",
       "native-region      0\n",
       "dtype: int64"
      ]
     },
     "execution_count": 42,
     "metadata": {},
     "output_type": "execute_result"
    }
   ],
   "source": [
    "df.isnull().sum()"
   ]
  },
  {
   "cell_type": "markdown",
   "id": "a75be35b",
   "metadata": {},
   "source": [
    "###### Decide the evaluation measure"
   ]
  },
  {
   "cell_type": "code",
   "execution_count": 43,
   "id": "be74970b",
   "metadata": {},
   "outputs": [
    {
     "data": {
      "image/png": "[encoded data removed]",
      "text/plain": [
       "<Figure size 432x288 with 1 Axes>"
      ]
     },
     "metadata": {
      "needs_background": "light"
     },
     "output_type": "display_data"
    }
   ],
   "source": [
    "df['Income-category'].value_counts(normalize=True).plot.barh()\n",
    "plt.xlabel(\"Number of samples\")\n",
    "plt.title(\"Number of samples per classes present\\n in the target\");"
   ]
  },
  {
   "cell_type": "markdown",
   "id": "8d1166c8",
   "metadata": {},
   "source": [
    "**Result**: From the bar histogram we can see that the target class is imbalanced, so using accuracy as metric can be misleading becuase the model can predict the majority class and achieve a high accuracy rate without consideration of misclassification.\n",
    "\n",
    "Precision: It measures the accuracy of positive predictions.\n",
    "\n",
    "Recall: It measures the ability of the model to identify all the true positives.\n",
    "\n",
    "balanced accuracy: The average between the sensitivity and the specificity.\n",
    "\n",
    "Decision to evalution metric and issue addressing:\n",
    "\n",
    "- Class imbalance issue: Obviously from the above bar histogram we can see the class imbalance issue that majority of class is <=50K.\n",
    "\n",
    "\n",
    "- Evaluation metric to use (balanced accuracy): The balanced accuracy is the average between the sensitivity(true positive rate) and the specificity(true negative rate) and equivalent to accuracy in the context of balanced classes, since what we really care is predicting income category and it is equally important to correctly predict both classes so balanced accuracy is suitable here.\n",
    "\n",
    "\n",
    "- Cross Validation: Due to Class imbalance issue, cross validation can help with this as it split data into a number of subsets and train the model on all but one of these folds for test which make sure that the result of the evaluation metric used to assess the model's performance is not by chance."
   ]
  },
  {
   "cell_type": "markdown",
   "id": "4077b778",
   "metadata": {},
   "source": [
    "###### Data  preparation\n",
    "\n",
    "Using one hot encoding, binary encoding and ordinal encoding for category features.\n",
    "\n",
    "\n",
    "sex: Using binary encoding on sex column which Male denoted as 1 and Female denoted as 0.\n",
    "\n",
    "\n",
    "Income-category: Using binary encoding on target variable which 1 denoted as >50K and 0 denoted as <=50K.\n",
    "\n",
    "\n",
    "'workclass', 'marital-status', 'occupation', 'race', 'native-region' : Using one hot encoding.\n",
    "\n",
    "\n",
    "capital-gain, capital-loss and hours-per-week: Using ordinal encoding which mapping Low : 1, Medium : 2, High: 3\n",
    "\n",
    "\n",
    "education-num: this feature remains the same as ordinal.\n",
    "\n",
    "\n",
    "age & capital-gain & capital-loss:  Use standardization on age columns as it has some outliers."
   ]
  },
  {
   "cell_type": "code",
   "execution_count": 44,
   "id": "5a47b8aa",
   "metadata": {},
   "outputs": [],
   "source": [
    "df_copy = df.copy()"
   ]
  },
  {
   "cell_type": "code",
   "execution_count": 45,
   "id": "7f2c5d71",
   "metadata": {},
   "outputs": [],
   "source": [
    "# Encoding the 'sex' column using binary encoding\n",
    "df_copy['Income-category'] = df_copy['Income-category'].apply(lambda x: 1 if x == '>50K' else 0)\n",
    "df_copy['sex'] = df_copy['sex'].apply(lambda x: 1 if x == 'Male' else 0)"
   ]
  },
  {
   "cell_type": "code",
   "execution_count": 46,
   "id": "304a8bdc",
   "metadata": {},
   "outputs": [],
   "source": [
    "ordinal_encoding_mapping = {\n",
    "    'Low': 1,\n",
    "    'Medium': 2,\n",
    "    'High': 3\n",
    "}\n",
    "df_copy['hours-per-week'] = df_copy['hours-per-week'].map(ordinal_encoding_mapping)"
   ]
  },
  {
   "cell_type": "code",
   "execution_count": 47,
   "id": "b773e12c",
   "metadata": {},
   "outputs": [],
   "source": [
    "categorical_columns = ['workclass', 'marital-status', 'occupation', 'race', 'native-region']"
   ]
  },
  {
   "cell_type": "code",
   "execution_count": 48,
   "id": "e05e0cb5",
   "metadata": {},
   "outputs": [],
   "source": [
    "df_encoded = pd.get_dummies(df_copy, columns=categorical_columns)"
   ]
  },
  {
   "cell_type": "code",
   "execution_count": 49,
   "id": "efe2f9f3",
   "metadata": {},
   "outputs": [
    {
     "data": {
      "text/html": [
       "<div>\n",
       "<style scoped>\n",
       "    .dataframe tbody tr th:only-of-type {\n",
       "        vertical-align: middle;\n",
       "    }\n",
       "\n",
       "    .dataframe tbody tr th {\n",
       "        vertical-align: top;\n",
       "    }\n",
       "\n",
       "    .dataframe thead th {\n",
       "        text-align: right;\n",
       "    }\n",
       "</style>\n",
       "<table border=\"1\" class=\"dataframe\">\n",
       "  <thead>\n",
       "    <tr style=\"text-align: right;\">\n",
       "      <th></th>\n",
       "      <th>age</th>\n",
       "      <th>education-num</th>\n",
       "      <th>sex</th>\n",
       "      <th>capital-gain</th>\n",
       "      <th>capital-loss</th>\n",
       "      <th>hours-per-week</th>\n",
       "      <th>Income-category</th>\n",
       "      <th>workclass_Federal-gov</th>\n",
       "      <th>workclass_Local-gov</th>\n",
       "      <th>workclass_Private</th>\n",
       "      <th>...</th>\n",
       "      <th>race_Black</th>\n",
       "      <th>race_Other</th>\n",
       "      <th>race_White</th>\n",
       "      <th>native-region_Asia_Central</th>\n",
       "      <th>native-region_Asia_East</th>\n",
       "      <th>native-region_Central_America</th>\n",
       "      <th>native-region_Europe_East</th>\n",
       "      <th>native-region_Europe_West</th>\n",
       "      <th>native-region_North_America</th>\n",
       "      <th>native-region_South_America</th>\n",
       "    </tr>\n",
       "  </thead>\n",
       "  <tbody>\n",
       "    <tr>\n",
       "      <th>0</th>\n",
       "      <td>21</td>\n",
       "      <td>11</td>\n",
       "      <td>1</td>\n",
       "      <td>0</td>\n",
       "      <td>0</td>\n",
       "      <td>1</td>\n",
       "      <td>0</td>\n",
       "      <td>0</td>\n",
       "      <td>0</td>\n",
       "      <td>1</td>\n",
       "      <td>...</td>\n",
       "      <td>0</td>\n",
       "      <td>0</td>\n",
       "      <td>1</td>\n",
       "      <td>0</td>\n",
       "      <td>0</td>\n",
       "      <td>0</td>\n",
       "      <td>0</td>\n",
       "      <td>0</td>\n",
       "      <td>1</td>\n",
       "      <td>0</td>\n",
       "    </tr>\n",
       "    <tr>\n",
       "      <th>2</th>\n",
       "      <td>39</td>\n",
       "      <td>9</td>\n",
       "      <td>1</td>\n",
       "      <td>0</td>\n",
       "      <td>0</td>\n",
       "      <td>2</td>\n",
       "      <td>0</td>\n",
       "      <td>0</td>\n",
       "      <td>0</td>\n",
       "      <td>1</td>\n",
       "      <td>...</td>\n",
       "      <td>0</td>\n",
       "      <td>0</td>\n",
       "      <td>1</td>\n",
       "      <td>0</td>\n",
       "      <td>0</td>\n",
       "      <td>0</td>\n",
       "      <td>0</td>\n",
       "      <td>0</td>\n",
       "      <td>1</td>\n",
       "      <td>0</td>\n",
       "    </tr>\n",
       "    <tr>\n",
       "      <th>3</th>\n",
       "      <td>42</td>\n",
       "      <td>9</td>\n",
       "      <td>1</td>\n",
       "      <td>0</td>\n",
       "      <td>0</td>\n",
       "      <td>2</td>\n",
       "      <td>1</td>\n",
       "      <td>0</td>\n",
       "      <td>0</td>\n",
       "      <td>1</td>\n",
       "      <td>...</td>\n",
       "      <td>0</td>\n",
       "      <td>0</td>\n",
       "      <td>1</td>\n",
       "      <td>0</td>\n",
       "      <td>0</td>\n",
       "      <td>0</td>\n",
       "      <td>0</td>\n",
       "      <td>0</td>\n",
       "      <td>1</td>\n",
       "      <td>0</td>\n",
       "    </tr>\n",
       "    <tr>\n",
       "      <th>4</th>\n",
       "      <td>48</td>\n",
       "      <td>14</td>\n",
       "      <td>0</td>\n",
       "      <td>0</td>\n",
       "      <td>0</td>\n",
       "      <td>2</td>\n",
       "      <td>1</td>\n",
       "      <td>0</td>\n",
       "      <td>0</td>\n",
       "      <td>1</td>\n",
       "      <td>...</td>\n",
       "      <td>0</td>\n",
       "      <td>0</td>\n",
       "      <td>1</td>\n",
       "      <td>0</td>\n",
       "      <td>0</td>\n",
       "      <td>0</td>\n",
       "      <td>0</td>\n",
       "      <td>0</td>\n",
       "      <td>1</td>\n",
       "      <td>0</td>\n",
       "    </tr>\n",
       "    <tr>\n",
       "      <th>5</th>\n",
       "      <td>38</td>\n",
       "      <td>14</td>\n",
       "      <td>1</td>\n",
       "      <td>7298</td>\n",
       "      <td>0</td>\n",
       "      <td>3</td>\n",
       "      <td>1</td>\n",
       "      <td>0</td>\n",
       "      <td>0</td>\n",
       "      <td>0</td>\n",
       "      <td>...</td>\n",
       "      <td>0</td>\n",
       "      <td>0</td>\n",
       "      <td>1</td>\n",
       "      <td>0</td>\n",
       "      <td>0</td>\n",
       "      <td>0</td>\n",
       "      <td>0</td>\n",
       "      <td>0</td>\n",
       "      <td>1</td>\n",
       "      <td>0</td>\n",
       "    </tr>\n",
       "    <tr>\n",
       "      <th>...</th>\n",
       "      <td>...</td>\n",
       "      <td>...</td>\n",
       "      <td>...</td>\n",
       "      <td>...</td>\n",
       "      <td>...</td>\n",
       "      <td>...</td>\n",
       "      <td>...</td>\n",
       "      <td>...</td>\n",
       "      <td>...</td>\n",
       "      <td>...</td>\n",
       "      <td>...</td>\n",
       "      <td>...</td>\n",
       "      <td>...</td>\n",
       "      <td>...</td>\n",
       "      <td>...</td>\n",
       "      <td>...</td>\n",
       "      <td>...</td>\n",
       "      <td>...</td>\n",
       "      <td>...</td>\n",
       "      <td>...</td>\n",
       "      <td>...</td>\n",
       "    </tr>\n",
       "    <tr>\n",
       "      <th>9995</th>\n",
       "      <td>26</td>\n",
       "      <td>10</td>\n",
       "      <td>1</td>\n",
       "      <td>0</td>\n",
       "      <td>0</td>\n",
       "      <td>2</td>\n",
       "      <td>1</td>\n",
       "      <td>0</td>\n",
       "      <td>0</td>\n",
       "      <td>1</td>\n",
       "      <td>...</td>\n",
       "      <td>0</td>\n",
       "      <td>0</td>\n",
       "      <td>1</td>\n",
       "      <td>0</td>\n",
       "      <td>0</td>\n",
       "      <td>0</td>\n",
       "      <td>0</td>\n",
       "      <td>0</td>\n",
       "      <td>1</td>\n",
       "      <td>0</td>\n",
       "    </tr>\n",
       "    <tr>\n",
       "      <th>9996</th>\n",
       "      <td>31</td>\n",
       "      <td>9</td>\n",
       "      <td>1</td>\n",
       "      <td>0</td>\n",
       "      <td>0</td>\n",
       "      <td>2</td>\n",
       "      <td>0</td>\n",
       "      <td>0</td>\n",
       "      <td>0</td>\n",
       "      <td>0</td>\n",
       "      <td>...</td>\n",
       "      <td>0</td>\n",
       "      <td>1</td>\n",
       "      <td>0</td>\n",
       "      <td>0</td>\n",
       "      <td>0</td>\n",
       "      <td>0</td>\n",
       "      <td>0</td>\n",
       "      <td>0</td>\n",
       "      <td>1</td>\n",
       "      <td>0</td>\n",
       "    </tr>\n",
       "    <tr>\n",
       "      <th>9997</th>\n",
       "      <td>44</td>\n",
       "      <td>9</td>\n",
       "      <td>0</td>\n",
       "      <td>0</td>\n",
       "      <td>0</td>\n",
       "      <td>1</td>\n",
       "      <td>0</td>\n",
       "      <td>0</td>\n",
       "      <td>0</td>\n",
       "      <td>1</td>\n",
       "      <td>...</td>\n",
       "      <td>1</td>\n",
       "      <td>0</td>\n",
       "      <td>0</td>\n",
       "      <td>0</td>\n",
       "      <td>0</td>\n",
       "      <td>0</td>\n",
       "      <td>0</td>\n",
       "      <td>0</td>\n",
       "      <td>1</td>\n",
       "      <td>0</td>\n",
       "    </tr>\n",
       "    <tr>\n",
       "      <th>9998</th>\n",
       "      <td>20</td>\n",
       "      <td>9</td>\n",
       "      <td>1</td>\n",
       "      <td>0</td>\n",
       "      <td>0</td>\n",
       "      <td>2</td>\n",
       "      <td>0</td>\n",
       "      <td>0</td>\n",
       "      <td>0</td>\n",
       "      <td>0</td>\n",
       "      <td>...</td>\n",
       "      <td>0</td>\n",
       "      <td>0</td>\n",
       "      <td>1</td>\n",
       "      <td>0</td>\n",
       "      <td>0</td>\n",
       "      <td>0</td>\n",
       "      <td>0</td>\n",
       "      <td>0</td>\n",
       "      <td>1</td>\n",
       "      <td>0</td>\n",
       "    </tr>\n",
       "    <tr>\n",
       "      <th>9999</th>\n",
       "      <td>21</td>\n",
       "      <td>9</td>\n",
       "      <td>1</td>\n",
       "      <td>0</td>\n",
       "      <td>0</td>\n",
       "      <td>1</td>\n",
       "      <td>0</td>\n",
       "      <td>0</td>\n",
       "      <td>0</td>\n",
       "      <td>1</td>\n",
       "      <td>...</td>\n",
       "      <td>0</td>\n",
       "      <td>0</td>\n",
       "      <td>1</td>\n",
       "      <td>0</td>\n",
       "      <td>0</td>\n",
       "      <td>0</td>\n",
       "      <td>0</td>\n",
       "      <td>0</td>\n",
       "      <td>1</td>\n",
       "      <td>0</td>\n",
       "    </tr>\n",
       "  </tbody>\n",
       "</table>\n",
       "<p>9431 rows × 47 columns</p>\n",
       "</div>"
      ],
      "text/plain": [
       "      age  education-num  sex  capital-gain  capital-loss  hours-per-week  \\\n",
       "0      21             11    1             0             0               1   \n",
       "2      39              9    1             0             0               2   \n",
       "3      42              9    1             0             0               2   \n",
       "4      48             14    0             0             0               2   \n",
       "5      38             14    1          7298             0               3   \n",
       "...   ...            ...  ...           ...           ...             ...   \n",
       "9995   26             10    1             0             0               2   \n",
       "9996   31              9    1             0             0               2   \n",
       "9997   44              9    0             0             0               1   \n",
       "9998   20              9    1             0             0               2   \n",
       "9999   21              9    1             0             0               1   \n",
       "\n",
       "      Income-category  workclass_Federal-gov  workclass_Local-gov  \\\n",
       "0                   0                      0                    0   \n",
       "2                   0                      0                    0   \n",
       "3                   1                      0                    0   \n",
       "4                   1                      0                    0   \n",
       "5                   1                      0                    0   \n",
       "...               ...                    ...                  ...   \n",
       "9995                1                      0                    0   \n",
       "9996                0                      0                    0   \n",
       "9997                0                      0                    0   \n",
       "9998                0                      0                    0   \n",
       "9999                0                      0                    0   \n",
       "\n",
       "      workclass_Private  ...  race_Black  race_Other  race_White  \\\n",
       "0                     1  ...           0           0           1   \n",
       "2                     1  ...           0           0           1   \n",
       "3                     1  ...           0           0           1   \n",
       "4                     1  ...           0           0           1   \n",
       "5                     0  ...           0           0           1   \n",
       "...                 ...  ...         ...         ...         ...   \n",
       "9995                  1  ...           0           0           1   \n",
       "9996                  0  ...           0           1           0   \n",
       "9997                  1  ...           1           0           0   \n",
       "9998                  0  ...           0           0           1   \n",
       "9999                  1  ...           0           0           1   \n",
       "\n",
       "      native-region_Asia_Central  native-region_Asia_East  \\\n",
       "0                              0                        0   \n",
       "2                              0                        0   \n",
       "3                              0                        0   \n",
       "4                              0                        0   \n",
       "5                              0                        0   \n",
       "...                          ...                      ...   \n",
       "9995                           0                        0   \n",
       "9996                           0                        0   \n",
       "9997                           0                        0   \n",
       "9998                           0                        0   \n",
       "9999                           0                        0   \n",
       "\n",
       "      native-region_Central_America  native-region_Europe_East  \\\n",
       "0                                 0                          0   \n",
       "2                                 0                          0   \n",
       "3                                 0                          0   \n",
       "4                                 0                          0   \n",
       "5                                 0                          0   \n",
       "...                             ...                        ...   \n",
       "9995                              0                          0   \n",
       "9996                              0                          0   \n",
       "9997                              0                          0   \n",
       "9998                              0                          0   \n",
       "9999                              0                          0   \n",
       "\n",
       "      native-region_Europe_West  native-region_North_America  \\\n",
       "0                             0                            1   \n",
       "2                             0                            1   \n",
       "3                             0                            1   \n",
       "4                             0                            1   \n",
       "5                             0                            1   \n",
       "...                         ...                          ...   \n",
       "9995                          0                            1   \n",
       "9996                          0                            1   \n",
       "9997                          0                            1   \n",
       "9998                          0                            1   \n",
       "9999                          0                            1   \n",
       "\n",
       "      native-region_South_America  \n",
       "0                               0  \n",
       "2                               0  \n",
       "3                               0  \n",
       "4                               0  \n",
       "5                               0  \n",
       "...                           ...  \n",
       "9995                            0  \n",
       "9996                            0  \n",
       "9997                            0  \n",
       "9998                            0  \n",
       "9999                            0  \n",
       "\n",
       "[9431 rows x 47 columns]"
      ]
     },
     "execution_count": 49,
     "metadata": {},
     "output_type": "execute_result"
    }
   ],
   "source": [
    "df_encoded"
   ]
  },
  {
   "cell_type": "code",
   "execution_count": 50,
   "id": "e06b91cf",
   "metadata": {},
   "outputs": [
    {
     "data": {
      "text/plain": [
       "count    9431.000000\n",
       "mean       38.433782\n",
       "std        13.145746\n",
       "min        17.000000\n",
       "25%        28.000000\n",
       "50%        37.000000\n",
       "75%        47.000000\n",
       "max        90.000000\n",
       "Name: age, dtype: float64"
      ]
     },
     "execution_count": 50,
     "metadata": {},
     "output_type": "execute_result"
    }
   ],
   "source": [
    "df_encoded['age'].describe()"
   ]
  },
  {
   "cell_type": "code",
   "execution_count": 51,
   "id": "e1a6d1df",
   "metadata": {},
   "outputs": [],
   "source": [
    "X = df_encoded.drop('Income-category', axis=1)\n",
    "y = df_encoded['Income-category']"
   ]
  },
  {
   "cell_type": "code",
   "execution_count": 52,
   "id": "f487e2c9",
   "metadata": {},
   "outputs": [],
   "source": [
    "X_train, X_test, y_train, y_test = train_test_split(X, y, test_size=0.2, random_state=42)"
   ]
  },
  {
   "cell_type": "code",
   "execution_count": 53,
   "id": "a84393ba",
   "metadata": {},
   "outputs": [],
   "source": [
    "scaler_age = StandardScaler()\n",
    "scaler_cap_gain = StandardScaler()\n",
    "scaler_cap_loss = StandardScaler()\n",
    "\n",
    "\n",
    "X_train['age'] = scaler_age.fit_transform(X_train[['age']])\n",
    "X_test['age'] = scaler_age.transform(X_test[['age']])\n",
    "\n",
    "\n",
    "X_train['capital-gain'] = scaler_cap_gain.fit_transform(X_train[['capital-gain']])\n",
    "X_test['capital-gain'] = scaler_cap_gain.transform(X_test[['capital-gain']])\n",
    "\n",
    "\n",
    "X_train['capital-loss'] = scaler_cap_loss.fit_transform(X_train[['capital-loss']])\n",
    "X_test['capital-loss'] = scaler_cap_loss.transform(X_test[['capital-loss']])"
   ]
  },
  {
   "cell_type": "markdown",
   "id": "367ae63d",
   "metadata": {},
   "source": [
    "### (b) Evaluate the performance of three basic classifiers on your dataset: a decision tree with depth at most 3, a neural network with at most 10 hidden nodes and 1-NN."
   ]
  },
  {
   "cell_type": "markdown",
   "id": "d389c5ba",
   "metadata": {},
   "source": [
    "Decision Tree Classifier"
   ]
  },
  {
   "cell_type": "code",
   "execution_count": 54,
   "id": "bf4726c1",
   "metadata": {},
   "outputs": [
    {
     "name": "stdout",
     "output_type": "stream",
     "text": [
      "Decision Tree (max depth 3) using cross validation: Balanced Accuracy: 0.727\n"
     ]
    }
   ],
   "source": [
    "dt_classifier = DecisionTreeClassifier(max_depth=3)\n",
    "dt_cv_scores = cross_val_score(dt_classifier, X, y, cv=10, scoring='balanced_accuracy')\n",
    "dt_cv_score_mean = dt_cv_scores.mean()\n",
    "print(f\"Decision Tree (max depth 3) using cross validation: Balanced Accuracy: {dt_cv_score_mean:.3f}\")"
   ]
  },
  {
   "cell_type": "markdown",
   "id": "d0b4ad2b",
   "metadata": {},
   "source": [
    "1-NN Classifier"
   ]
  },
  {
   "cell_type": "code",
   "execution_count": 55,
   "id": "25299574",
   "metadata": {},
   "outputs": [
    {
     "name": "stdout",
     "output_type": "stream",
     "text": [
      "1-NN using cross validation: Balanced Accuracy: 0.755\n"
     ]
    }
   ],
   "source": [
    "# 1-NN Classifier\n",
    "knn_classifier = KNeighborsClassifier(n_neighbors=1)\n",
    "knn_cv_scores = cross_val_score(knn_classifier, X, y, cv=10, scoring='balanced_accuracy')\n",
    "knn_cv_score_mean = knn_cv_scores.mean()\n",
    "print(f\"1-NN using cross validation: Balanced Accuracy: {knn_cv_score_mean:.3f}\")"
   ]
  },
  {
   "cell_type": "markdown",
   "id": "88831709",
   "metadata": {},
   "source": [
    "Neural network"
   ]
  },
  {
   "cell_type": "code",
   "execution_count": 56,
   "id": "3f0d2019",
   "metadata": {},
   "outputs": [
    {
     "name": "stdout",
     "output_type": "stream",
     "text": [
      "Neural Network (10 hidden nodes) using cross validation: Balanced Accuracy: 0.758\n"
     ]
    }
   ],
   "source": [
    "# Neural Network Classifier\n",
    "mlp_classifier = MLPClassifier(hidden_layer_sizes=(10,), max_iter=1000)\n",
    "mlp_cv_scores = cross_val_score(mlp_classifier, X, y, cv=10, scoring='balanced_accuracy')\n",
    "mlp_cv_score_mean = mlp_cv_scores.mean()\n",
    "print(f\"Neural Network (10 hidden nodes) using cross validation: Balanced Accuracy: {mlp_cv_score_mean:.3f}\")"
   ]
  },
  {
   "cell_type": "markdown",
   "id": "b78eefe1",
   "metadata": {},
   "source": [
    "######  Fit each of model to the entire training set and evaluate it on the test set"
   ]
  },
  {
   "cell_type": "markdown",
   "id": "c7a0de05",
   "metadata": {},
   "source": [
    "Decision Tree Classifier"
   ]
  },
  {
   "cell_type": "code",
   "execution_count": 57,
   "id": "cedbd897",
   "metadata": {},
   "outputs": [
    {
     "name": "stdout",
     "output_type": "stream",
     "text": [
      "Final balanced Accuracy on test Set for Decision tree: 0.725\n"
     ]
    }
   ],
   "source": [
    "dt_classifier = DecisionTreeClassifier(max_depth=3)\n",
    "dt_classifier.fit(X_train, y_train)\n",
    "# Make predictions on the test set\n",
    "y_pred = dt_classifier.predict(X_test)\n",
    "# Calculate the balanced accuracy score\n",
    "dt_balanced_score = balanced_accuracy_score(y_test, y_pred)\n",
    "print(f\"Final balanced Accuracy on test Set for Decision tree: {dt_balanced_score:.3f}\")"
   ]
  },
  {
   "cell_type": "markdown",
   "id": "6e6240a2",
   "metadata": {},
   "source": [
    "1-NN Classifier"
   ]
  },
  {
   "cell_type": "code",
   "execution_count": 58,
   "id": "1fc4f910",
   "metadata": {},
   "outputs": [
    {
     "name": "stdout",
     "output_type": "stream",
     "text": [
      "Final balanced Accuracy on test Set for Knn: 0.706\n"
     ]
    }
   ],
   "source": [
    "knn_classifier = KNeighborsClassifier(n_neighbors=1)\n",
    "knn_classifier.fit(X_train, y_train)\n",
    "# Make predictions on the test set\n",
    "y_pred = knn_classifier.predict(X_test)\n",
    "# Calculate the balanced accuracy score\n",
    "knn_balanced_score = balanced_accuracy_score(y_test, y_pred)\n",
    "print(f\"Final balanced Accuracy on test Set for Knn: {knn_balanced_score:.3f}\")"
   ]
  },
  {
   "cell_type": "markdown",
   "id": "6c6a856a",
   "metadata": {},
   "source": [
    "Neural network"
   ]
  },
  {
   "cell_type": "code",
   "execution_count": 59,
   "id": "47f48685",
   "metadata": {},
   "outputs": [
    {
     "name": "stdout",
     "output_type": "stream",
     "text": [
      "Final balanced Accuracy on test Set for Neural network: 0.766\n"
     ]
    }
   ],
   "source": [
    "mlp_classifier = MLPClassifier(hidden_layer_sizes=(10,), max_iter=1000)\n",
    "mlp_classifier.fit(X_train, y_train)\n",
    "# Make predictions on the test set\n",
    "y_pred = mlp_classifier.predict(X_test)\n",
    "# Calculate the balanced accuracy score\n",
    "mlp_balanced_score = balanced_accuracy_score(y_test, y_pred)\n",
    "print(f\"Final balanced Accuracy on test Set for Neural network: {mlp_balanced_score:.3f}\")"
   ]
  },
  {
   "cell_type": "markdown",
   "id": "140f8ec3",
   "metadata": {},
   "source": [
    "**Result**:\n",
    "- Decision Tree (max depth 3) using cross validation: Balanced Accuracy: 0.727\n",
    "- Final Balanced Accuracy on test Set for Decision tree: 0.725\n",
    "- 1-NN using cross validation: Balanced Accuracy: 0.755\n",
    "- Final Balanced Accuracy on test Set for Knn: 0.706\n",
    "- Neural Network (10 hidden nodes) using cross validation: Balanced Accuracy: 0.758\n",
    "- Final Balanced Accuracy on test Set for Neural network: 0.766\n",
    "\n",
    "Discussion: According to above result for each of model we can see that winner classifier is Neural Network as it has the top performance compared to the rest of models in both tests. 1-NN using cross validation has relatively high balanced accuracy with 0.755 possibly caused by overfitting."
   ]
  },
  {
   "cell_type": "markdown",
   "id": "42dc8c00",
   "metadata": {},
   "source": [
    "### (c) Apply ensembles with bagging using the three classifiers from Task (b). Investigate the performance of each of these classifiers as the ensemble size increases (e.g., in steps of 2 from 2 to 20 members). Using the best performing ensemble size, investigate how changing the number of instances in the bootstrap samples affects classification performance."
   ]
  },
  {
   "cell_type": "code",
   "execution_count": 60,
   "id": "0fe29ac5",
   "metadata": {},
   "outputs": [],
   "source": [
    "from sklearn.ensemble import BaggingClassifier"
   ]
  },
  {
   "cell_type": "markdown",
   "id": "ce62ea26",
   "metadata": {},
   "source": [
    "###### Investigate the performance of each of these classifiers as the ensemble size increases (e.g., in steps of 2 from 2 to 20 members)"
   ]
  },
  {
   "cell_type": "code",
   "execution_count": 61,
   "id": "b4e299f8",
   "metadata": {},
   "outputs": [],
   "source": [
    "folds = 10\n",
    "v = 0"
   ]
  },
  {
   "cell_type": "markdown",
   "id": "2ea73e45",
   "metadata": {},
   "source": [
    "Decision Tree Classifier"
   ]
  },
  {
   "cell_type": "code",
   "execution_count": 62,
   "id": "c73b6baa",
   "metadata": {},
   "outputs": [
    {
     "name": "stdout",
     "output_type": "stream",
     "text": [
      "Mean balanced accuracy for D_Tree_bag with the ensemble of size 2.0 : 0.726\n",
      "Mean balanced accuracy for D_Tree_bag with the ensemble of size 3.0 : 0.727\n",
      "Mean balanced accuracy for D_Tree_bag with the ensemble of size 4.0 : 0.726\n",
      "Mean balanced accuracy for D_Tree_bag with the ensemble of size 5.0 : 0.735\n",
      "Mean balanced accuracy for D_Tree_bag with the ensemble of size 6.0 : 0.730\n",
      "Mean balanced accuracy for D_Tree_bag with the ensemble of size 7.0 : 0.728\n",
      "Mean balanced accuracy for D_Tree_bag with the ensemble of size 8.0 : 0.728\n",
      "Mean balanced accuracy for D_Tree_bag with the ensemble of size 9.0 : 0.727\n",
      "Mean balanced accuracy for D_Tree_bag with the ensemble of size 10.0 : 0.727\n",
      "Mean balanced accuracy for D_Tree_bag with the ensemble of size 11.0 : 0.727\n",
      "Mean balanced accuracy for D_Tree_bag with the ensemble of size 12.0 : 0.727\n",
      "Mean balanced accuracy for D_Tree_bag with the ensemble of size 13.0 : 0.728\n",
      "Mean balanced accuracy for D_Tree_bag with the ensemble of size 14.0 : 0.727\n",
      "Mean balanced accuracy for D_Tree_bag with the ensemble of size 15.0 : 0.727\n",
      "Mean balanced accuracy for D_Tree_bag with the ensemble of size 16.0 : 0.728\n",
      "Mean balanced accuracy for D_Tree_bag with the ensemble of size 17.0 : 0.727\n",
      "Mean balanced accuracy for D_Tree_bag with the ensemble of size 18.0 : 0.727\n",
      "Mean balanced accuracy for D_Tree_bag with the ensemble of size 19.0 : 0.727\n",
      "Mean balanced accuracy for D_Tree_bag with the ensemble of size 20.0 : 0.727\n"
     ]
    }
   ],
   "source": [
    "dt_classifier = DecisionTreeClassifier(max_depth=3)\n",
    "for i in (2,3,4,5,6,7,8,9,10,11,12,13,14,15,16,17,18,19,20):\n",
    "    tree_bag = BaggingClassifier(dt_classifier, \n",
    "                            n_estimators = i,\n",
    "                            max_samples = 1.0, # bootstrap resampling \n",
    "                            bootstrap = True, random_state=1)\n",
    "\n",
    "    scores_tree_bag = cross_val_score(tree_bag, X, y, cv=folds, verbose = v, n_jobs = -1,scoring='balanced_accuracy')\n",
    "\n",
    "\n",
    "    print(\"Mean balanced accuracy for D_Tree_bag with the ensemble of size {:.1f} : {:.3f}\".format(i,scores_tree_bag.mean()))"
   ]
  },
  {
   "cell_type": "markdown",
   "id": "6028f93b",
   "metadata": {},
   "source": [
    "**Result**: The best performing ensemble size for decision tree is 5."
   ]
  },
  {
   "cell_type": "markdown",
   "id": "4996b190",
   "metadata": {},
   "source": [
    "1-NN Classifier"
   ]
  },
  {
   "cell_type": "code",
   "execution_count": 63,
   "id": "2044f95f",
   "metadata": {},
   "outputs": [
    {
     "name": "stdout",
     "output_type": "stream",
     "text": [
      "Mean balanced accuracy for knn_bag with the ensemble of size 2.0 : 0.734\n",
      "Mean balanced accuracy for knn_bag with the ensemble of size 3.0 : 0.758\n",
      "Mean balanced accuracy for knn_bag with the ensemble of size 4.0 : 0.747\n",
      "Mean balanced accuracy for knn_bag with the ensemble of size 5.0 : 0.764\n",
      "Mean balanced accuracy for knn_bag with the ensemble of size 6.0 : 0.752\n",
      "Mean balanced accuracy for knn_bag with the ensemble of size 7.0 : 0.765\n",
      "Mean balanced accuracy for knn_bag with the ensemble of size 8.0 : 0.753\n",
      "Mean balanced accuracy for knn_bag with the ensemble of size 9.0 : 0.763\n",
      "Mean balanced accuracy for knn_bag with the ensemble of size 10.0 : 0.760\n",
      "Mean balanced accuracy for knn_bag with the ensemble of size 11.0 : 0.762\n",
      "Mean balanced accuracy for knn_bag with the ensemble of size 12.0 : 0.758\n",
      "Mean balanced accuracy for knn_bag with the ensemble of size 13.0 : 0.764\n",
      "Mean balanced accuracy for knn_bag with the ensemble of size 14.0 : 0.759\n",
      "Mean balanced accuracy for knn_bag with the ensemble of size 15.0 : 0.763\n",
      "Mean balanced accuracy for knn_bag with the ensemble of size 16.0 : 0.759\n",
      "Mean balanced accuracy for knn_bag with the ensemble of size 17.0 : 0.763\n",
      "Mean balanced accuracy for knn_bag with the ensemble of size 18.0 : 0.760\n",
      "Mean balanced accuracy for knn_bag with the ensemble of size 19.0 : 0.763\n",
      "Mean balanced accuracy for knn_bag with the ensemble of size 20.0 : 0.759\n"
     ]
    }
   ],
   "source": [
    "knn_classifier = KNeighborsClassifier(n_neighbors=1)\n",
    "for i in (2,3,4,5,6,7,8,9,10,11,12,13,14,15,16,17,18,19,20):\n",
    "    Knn_bag = BaggingClassifier(knn_classifier, \n",
    "                            n_estimators = i,\n",
    "                            max_samples = 1.0, # bootstrap resampling \n",
    "                            bootstrap = True, random_state=1)\n",
    "\n",
    "    scores_knn_bag = cross_val_score(Knn_bag, X, y, cv=folds, verbose = v, n_jobs = -1,scoring='balanced_accuracy')\n",
    "\n",
    "\n",
    "    print(\"Mean balanced accuracy for knn_bag with the ensemble of size {:.1f} : {:.3f}\".format(i,scores_knn_bag.mean()))"
   ]
  },
  {
   "cell_type": "markdown",
   "id": "343b67a3",
   "metadata": {},
   "source": [
    "**Result**: The best performing ensemble size for 1NN is 7."
   ]
  },
  {
   "cell_type": "markdown",
   "id": "94581443",
   "metadata": {},
   "source": [
    "Neural network"
   ]
  },
  {
   "cell_type": "code",
   "execution_count": 64,
   "id": "c5b5b5cd",
   "metadata": {},
   "outputs": [
    {
     "name": "stdout",
     "output_type": "stream",
     "text": [
      "Mean balanced accuracy for mlp_bag(neural network) with the ensemble of size 2.0 : 0.764\n",
      "Mean balanced accuracy for mlp_bag(neural network) with the ensemble of size 3.0 : 0.762\n",
      "Mean balanced accuracy for mlp_bag(neural network) with the ensemble of size 4.0 : 0.765\n",
      "Mean balanced accuracy for mlp_bag(neural network) with the ensemble of size 5.0 : 0.767\n",
      "Mean balanced accuracy for mlp_bag(neural network) with the ensemble of size 6.0 : 0.767\n",
      "Mean balanced accuracy for mlp_bag(neural network) with the ensemble of size 7.0 : 0.766\n",
      "Mean balanced accuracy for mlp_bag(neural network) with the ensemble of size 8.0 : 0.764\n",
      "Mean balanced accuracy for mlp_bag(neural network) with the ensemble of size 9.0 : 0.764\n",
      "Mean balanced accuracy for mlp_bag(neural network) with the ensemble of size 10.0 : 0.763\n",
      "Mean balanced accuracy for mlp_bag(neural network) with the ensemble of size 11.0 : 0.764\n",
      "Mean balanced accuracy for mlp_bag(neural network) with the ensemble of size 12.0 : 0.765\n",
      "Mean balanced accuracy for mlp_bag(neural network) with the ensemble of size 13.0 : 0.766\n",
      "Mean balanced accuracy for mlp_bag(neural network) with the ensemble of size 14.0 : 0.768\n",
      "Mean balanced accuracy for mlp_bag(neural network) with the ensemble of size 15.0 : 0.766\n",
      "Mean balanced accuracy for mlp_bag(neural network) with the ensemble of size 16.0 : 0.765\n",
      "Mean balanced accuracy for mlp_bag(neural network) with the ensemble of size 17.0 : 0.766\n",
      "Mean balanced accuracy for mlp_bag(neural network) with the ensemble of size 18.0 : 0.767\n",
      "Mean balanced accuracy for mlp_bag(neural network) with the ensemble of size 19.0 : 0.767\n",
      "Mean balanced accuracy for mlp_bag(neural network) with the ensemble of size 20.0 : 0.768\n"
     ]
    }
   ],
   "source": [
    "mlp_classifier = MLPClassifier(hidden_layer_sizes=(10,), max_iter=1000)\n",
    "for i in (2,3,4,5,6,7,8,9,10,11,12,13,14,15,16,17,18,19,20):\n",
    "    mlp_bag = BaggingClassifier(mlp_classifier, \n",
    "                            n_estimators = i,\n",
    "                            max_samples = 1.0, # bootstrap resampling \n",
    "                            bootstrap = True, random_state=1)\n",
    "\n",
    "    scores_mlp_bag = cross_val_score(mlp_bag, X, y, cv=folds, verbose = v, n_jobs = -1,scoring='balanced_accuracy')\n",
    "\n",
    "\n",
    "    print(\"Mean balanced accuracy for mlp_bag(neural network) with the ensemble of size {:.1f} : {:.3f}\".format(i,scores_mlp_bag.mean()))"
   ]
  },
  {
   "cell_type": "markdown",
   "id": "3181146c",
   "metadata": {},
   "source": [
    "**Result**: The best performing ensemble size for neural network is 14."
   ]
  },
  {
   "cell_type": "markdown",
   "id": "cf4160fb",
   "metadata": {},
   "source": [
    "###### investigate how changing the number of instances in the bootstrap samples affects classification performance"
   ]
  },
  {
   "cell_type": "code",
   "execution_count": 65,
   "id": "162811ea",
   "metadata": {},
   "outputs": [],
   "source": [
    "bootstrap_samples = [0.1, 0.2, 0.3 ,0.4 , 0.5, 0.6, 0.7, 0.8, 0.9, 1.0]"
   ]
  },
  {
   "cell_type": "code",
   "execution_count": 66,
   "id": "8802acde",
   "metadata": {},
   "outputs": [],
   "source": [
    "bootstrap_scores = {'Decision Tree':[],'1-NN':[],'Neural Network':[]}"
   ]
  },
  {
   "cell_type": "markdown",
   "id": "ec8196c9",
   "metadata": {},
   "source": [
    "Decision Tree Classifier"
   ]
  },
  {
   "cell_type": "code",
   "execution_count": 67,
   "id": "87032e0a",
   "metadata": {},
   "outputs": [
    {
     "name": "stdout",
     "output_type": "stream",
     "text": [
      "Mean balanced accuracy for D_Tree_bag with the bootstrap samples of size 0.1 : 0.737\n",
      "Mean balanced accuracy for D_Tree_bag with the bootstrap samples of size 0.2 : 0.733\n",
      "Mean balanced accuracy for D_Tree_bag with the bootstrap samples of size 0.3 : 0.728\n",
      "Mean balanced accuracy for D_Tree_bag with the bootstrap samples of size 0.4 : 0.727\n",
      "Mean balanced accuracy for D_Tree_bag with the bootstrap samples of size 0.5 : 0.727\n",
      "Mean balanced accuracy for D_Tree_bag with the bootstrap samples of size 0.6 : 0.727\n",
      "Mean balanced accuracy for D_Tree_bag with the bootstrap samples of size 0.7 : 0.731\n",
      "Mean balanced accuracy for D_Tree_bag with the bootstrap samples of size 0.8 : 0.732\n",
      "Mean balanced accuracy for D_Tree_bag with the bootstrap samples of size 0.9 : 0.733\n",
      "Mean balanced accuracy for D_Tree_bag with the bootstrap samples of size 1.0 : 0.735\n"
     ]
    }
   ],
   "source": [
    "dt_classifier = DecisionTreeClassifier(max_depth=3)\n",
    "for i in bootstrap_samples:\n",
    "    tree_bag = BaggingClassifier(dt_classifier, \n",
    "                            n_estimators = 5,\n",
    "                            max_samples = i, # bootstrap resampling \n",
    "                            bootstrap = True, random_state=1)\n",
    "\n",
    "    scores_tree_bag = cross_val_score(tree_bag, X, y, cv=folds, verbose = v, n_jobs = -1,scoring='balanced_accuracy')\n",
    "    bootstrap_scores['Decision Tree'].append(scores_tree_bag.mean())\n",
    "\n",
    "    print(\"Mean balanced accuracy for D_Tree_bag with the bootstrap samples of size {:.1f} : {:.3f}\".format(i,scores_tree_bag.mean()))"
   ]
  },
  {
   "cell_type": "markdown",
   "id": "1318057a",
   "metadata": {},
   "source": [
    "1-NN Classifier"
   ]
  },
  {
   "cell_type": "code",
   "execution_count": 68,
   "id": "c7e1810f",
   "metadata": {},
   "outputs": [
    {
     "name": "stdout",
     "output_type": "stream",
     "text": [
      "Mean balanced accuracy for knn_bag with the bootstrap samples of size 0.1 : 0.759\n",
      "Mean balanced accuracy for knn_bag with the bootstrap samples of size 0.2 : 0.769\n",
      "Mean balanced accuracy for knn_bag with the bootstrap samples of size 0.3 : 0.769\n",
      "Mean balanced accuracy for knn_bag with the bootstrap samples of size 0.4 : 0.770\n",
      "Mean balanced accuracy for knn_bag with the bootstrap samples of size 0.5 : 0.769\n",
      "Mean balanced accuracy for knn_bag with the bootstrap samples of size 0.6 : 0.768\n",
      "Mean balanced accuracy for knn_bag with the bootstrap samples of size 0.7 : 0.767\n",
      "Mean balanced accuracy for knn_bag with the bootstrap samples of size 0.8 : 0.764\n",
      "Mean balanced accuracy for knn_bag with the bootstrap samples of size 0.9 : 0.765\n",
      "Mean balanced accuracy for knn_bag with the bootstrap samples of size 1.0 : 0.765\n"
     ]
    }
   ],
   "source": [
    "knn_classifier = KNeighborsClassifier(n_neighbors=1)\n",
    "for i in bootstrap_samples:\n",
    "    Knn_bag = BaggingClassifier(knn_classifier, \n",
    "                            n_estimators = 7,\n",
    "                            max_samples = i, # bootstrap resampling \n",
    "                            bootstrap = True, random_state=1)\n",
    "\n",
    "    scores_knn_bag = cross_val_score(Knn_bag, X, y, cv=folds, verbose = v, n_jobs = -1,scoring='balanced_accuracy')\n",
    "    bootstrap_scores['1-NN'].append(scores_knn_bag.mean())\n",
    "\n",
    "    print(\"Mean balanced accuracy for knn_bag with the bootstrap samples of size {:.1f} : {:.3f}\".format(i,scores_knn_bag.mean()))"
   ]
  },
  {
   "cell_type": "markdown",
   "id": "4682322a",
   "metadata": {},
   "source": [
    "Neural network"
   ]
  },
  {
   "cell_type": "code",
   "execution_count": 69,
   "id": "c052eeba",
   "metadata": {},
   "outputs": [
    {
     "name": "stdout",
     "output_type": "stream",
     "text": [
      "Mean balanced accuracy for mlp_bag(neural network) with the bootstrap samples of size 0.1 : 0.634\n",
      "Mean balanced accuracy for mlp_bag(neural network) with the bootstrap samples of size 0.2 : 0.740\n",
      "Mean balanced accuracy for mlp_bag(neural network) with the bootstrap samples of size 0.3 : 0.757\n",
      "Mean balanced accuracy for mlp_bag(neural network) with the bootstrap samples of size 0.4 : 0.760\n",
      "Mean balanced accuracy for mlp_bag(neural network) with the bootstrap samples of size 0.5 : 0.762\n",
      "Mean balanced accuracy for mlp_bag(neural network) with the bootstrap samples of size 0.6 : 0.768\n",
      "Mean balanced accuracy for mlp_bag(neural network) with the bootstrap samples of size 0.7 : 0.765\n",
      "Mean balanced accuracy for mlp_bag(neural network) with the bootstrap samples of size 0.8 : 0.770\n",
      "Mean balanced accuracy for mlp_bag(neural network) with the bootstrap samples of size 0.9 : 0.771\n",
      "Mean balanced accuracy for mlp_bag(neural network) with the bootstrap samples of size 1.0 : 0.768\n"
     ]
    }
   ],
   "source": [
    "mlp_classifier = MLPClassifier(hidden_layer_sizes=(10,), max_iter=1000)\n",
    "for i in bootstrap_samples:\n",
    "    mlp_bag = BaggingClassifier(mlp_classifier, \n",
    "                            n_estimators = 14,\n",
    "                            max_samples = i, # bootstrap resampling \n",
    "                            bootstrap = True, random_state=1)\n",
    "\n",
    "    scores_mlp_bag = cross_val_score(mlp_bag, X, y, cv=folds, verbose = v, n_jobs = -1,scoring='balanced_accuracy')\n",
    "    bootstrap_scores['Neural Network'].append(scores_mlp_bag.mean())\n",
    "\n",
    "    print(\"Mean balanced accuracy for mlp_bag(neural network) with the bootstrap samples of size {:.1f} : {:.3f}\".format(i,scores_mlp_bag.mean()))"
   ]
  },
  {
   "cell_type": "code",
   "execution_count": 70,
   "id": "f598e5f2",
   "metadata": {},
   "outputs": [
    {
     "data": {
      "image/png": "[encoded data removed]",
      "text/plain": [
       "<Figure size 432x288 with 1 Axes>"
      ]
     },
     "metadata": {
      "needs_background": "light"
     },
     "output_type": "display_data"
    }
   ],
   "source": [
    "import matplotlib.pyplot as plt\n",
    "\n",
    "# Plotting the results\n",
    "for name in bootstrap_scores.keys():\n",
    "    plt.plot(bootstrap_samples, bootstrap_scores[name], label=name)\n",
    "\n",
    "plt.xlabel('Bootstrap Samples in percentage')\n",
    "plt.ylabel('Balanced Accuracy')\n",
    "plt.title('How changing the number of instances in the bootstrap samples affects classification performance')\n",
    "plt.legend()\n",
    "plt.grid()\n",
    "plt.show()"
   ]
  },
  {
   "cell_type": "markdown",
   "id": "e704e6a2",
   "metadata": {},
   "source": [
    "**Result**:\n",
    "- Neural Network: From the plot we can see the uptrend pattern that performance of the neural network increases with the size of the bootstrap sample, it reached its highest balanced accuracy when 90% of dataset is used for random sampling which mean it is benifiting from more data given due to its nature of the complexity(more parameter) and Non-linearity (the relationship between the input and output data)\n",
    "\n",
    "\n",
    "- Decision Tree: From the plot we can see that the performance of the decision tree increases with the size of the subset of features, its performance slightly decreases in the middle range of size of the bootstrap sample and it is quite well with both extreme size of bootstrap sample which is 0.1 and 1.0, which suggest that unlike neural network decision tree is less affected to the size of bootstrap sample, possibly because of its structure.\n",
    "\n",
    "\n",
    "- 1NN: From the plot we can see the performance of 1NN seems to be relatively stable across the different size of the bootstrap sample, it reached its highest score at 0.4 by increasing bootstrap samples from lowest performance at 0.1 but then shows descending pattern with increasing the size of the bootstrap sample, possibly because possibly the moderate size (0.4) samples keeps the best balance between bias and variance, especially majority vote and random sampling with replacement.\n",
    "\n"
   ]
  },
  {
   "cell_type": "markdown",
   "id": "12e1e190",
   "metadata": {},
   "source": [
    "### (d) Apply ensembles with random subspacing using the three classifiers from Task (b). Investigate the performance of each of these classifiers as the ensemble size  increases (e.g., in steps of 2 from 2 to 20 members). Using the best performing  ensemble size, investigate how changing the number of features used when applying  random subspacing affects classification performance. "
   ]
  },
  {
   "cell_type": "markdown",
   "id": "eb19f685",
   "metadata": {},
   "source": [
    "Decision Tree Classifier"
   ]
  },
  {
   "cell_type": "code",
   "execution_count": 71,
   "id": "ccd7ba63",
   "metadata": {},
   "outputs": [
    {
     "name": "stdout",
     "output_type": "stream",
     "text": [
      "Mean balanced accuracy for D_Tree_random subspacing with the ensemble of size 2.0 : 0.622\n",
      "Mean balanced accuracy for D_Tree_random subspacing with the ensemble of size 3.0 : 0.610\n",
      "Mean balanced accuracy for D_Tree_random subspacing with the ensemble of size 4.0 : 0.619\n",
      "Mean balanced accuracy for D_Tree_random subspacing with the ensemble of size 5.0 : 0.663\n",
      "Mean balanced accuracy for D_Tree_random subspacing with the ensemble of size 6.0 : 0.672\n",
      "Mean balanced accuracy for D_Tree_random subspacing with the ensemble of size 7.0 : 0.677\n",
      "Mean balanced accuracy for D_Tree_random subspacing with the ensemble of size 8.0 : 0.680\n",
      "Mean balanced accuracy for D_Tree_random subspacing with the ensemble of size 9.0 : 0.683\n",
      "Mean balanced accuracy for D_Tree_random subspacing with the ensemble of size 10.0 : 0.679\n",
      "Mean balanced accuracy for D_Tree_random subspacing with the ensemble of size 11.0 : 0.692\n",
      "Mean balanced accuracy for D_Tree_random subspacing with the ensemble of size 12.0 : 0.686\n",
      "Mean balanced accuracy for D_Tree_random subspacing with the ensemble of size 13.0 : 0.687\n",
      "Mean balanced accuracy for D_Tree_random subspacing with the ensemble of size 14.0 : 0.692\n",
      "Mean balanced accuracy for D_Tree_random subspacing with the ensemble of size 15.0 : 0.699\n",
      "Mean balanced accuracy for D_Tree_random subspacing with the ensemble of size 16.0 : 0.688\n",
      "Mean balanced accuracy for D_Tree_random subspacing with the ensemble of size 17.0 : 0.683\n",
      "Mean balanced accuracy for D_Tree_random subspacing with the ensemble of size 18.0 : 0.692\n",
      "Mean balanced accuracy for D_Tree_random subspacing with the ensemble of size 19.0 : 0.697\n",
      "Mean balanced accuracy for D_Tree_random subspacing with the ensemble of size 20.0 : 0.694\n"
     ]
    }
   ],
   "source": [
    "dt_classifier = DecisionTreeClassifier(max_depth=3)\n",
    "for i in (2,3,4,5,6,7,8,9,10,11,12,13,14,15,16,17,18,19,20):\n",
    "    random_SS_tree = BaggingClassifier(dt_classifier, \n",
    "                            n_estimators = i,\n",
    "                            max_samples = 1.0, \n",
    "                            max_features=0.5, random_state=1)\n",
    "\n",
    "    scores_tree_rss = cross_val_score(random_SS_tree, X, y, cv=folds, verbose = v, n_jobs = -1,scoring='balanced_accuracy')\n",
    "\n",
    "\n",
    "    print(\"Mean balanced accuracy for D_Tree_random subspacing with the ensemble of size {:.1f} : {:.3f}\".format(i,scores_tree_rss.mean()))"
   ]
  },
  {
   "cell_type": "markdown",
   "id": "5fe72b0b",
   "metadata": {},
   "source": [
    "**Result**: The best performing ensemble size for decision tree is 15."
   ]
  },
  {
   "cell_type": "markdown",
   "id": "642f1f90",
   "metadata": {},
   "source": [
    "1-NN Classifier"
   ]
  },
  {
   "cell_type": "code",
   "execution_count": 72,
   "id": "b892acde",
   "metadata": {},
   "outputs": [
    {
     "name": "stdout",
     "output_type": "stream",
     "text": [
      "Mean balanced accuracy for knn_random subspacing with the ensemble of size 2.0 : 0.584\n",
      "Mean balanced accuracy for knn_random subspacing with the ensemble of size 3.0 : 0.682\n",
      "Mean balanced accuracy for knn_random subspacing with the ensemble of size 4.0 : 0.657\n",
      "Mean balanced accuracy for knn_random subspacing with the ensemble of size 5.0 : 0.716\n",
      "Mean balanced accuracy for knn_random subspacing with the ensemble of size 6.0 : 0.680\n",
      "Mean balanced accuracy for knn_random subspacing with the ensemble of size 7.0 : 0.735\n",
      "Mean balanced accuracy for knn_random subspacing with the ensemble of size 8.0 : 0.704\n",
      "Mean balanced accuracy for knn_random subspacing with the ensemble of size 9.0 : 0.736\n",
      "Mean balanced accuracy for knn_random subspacing with the ensemble of size 10.0 : 0.706\n",
      "Mean balanced accuracy for knn_random subspacing with the ensemble of size 11.0 : 0.735\n",
      "Mean balanced accuracy for knn_random subspacing with the ensemble of size 12.0 : 0.726\n",
      "Mean balanced accuracy for knn_random subspacing with the ensemble of size 13.0 : 0.751\n",
      "Mean balanced accuracy for knn_random subspacing with the ensemble of size 14.0 : 0.739\n",
      "Mean balanced accuracy for knn_random subspacing with the ensemble of size 15.0 : 0.762\n",
      "Mean balanced accuracy for knn_random subspacing with the ensemble of size 16.0 : 0.742\n",
      "Mean balanced accuracy for knn_random subspacing with the ensemble of size 17.0 : 0.755\n",
      "Mean balanced accuracy for knn_random subspacing with the ensemble of size 18.0 : 0.746\n",
      "Mean balanced accuracy for knn_random subspacing with the ensemble of size 19.0 : 0.761\n",
      "Mean balanced accuracy for knn_random subspacing with the ensemble of size 20.0 : 0.750\n"
     ]
    }
   ],
   "source": [
    "knn_classifier = KNeighborsClassifier(n_neighbors=1)\n",
    "for i in (2,3,4,5,6,7,8,9,10,11,12,13,14,15,16,17,18,19,20):\n",
    "    random_SS_Knn = BaggingClassifier(knn_classifier, \n",
    "                            n_estimators = i,\n",
    "                            max_samples = 1.0, \n",
    "                            max_features=0.5, random_state=1)\n",
    "\n",
    "    scores_knn_rss = cross_val_score(random_SS_Knn, X, y, cv=folds, verbose = v, n_jobs = -1,scoring='balanced_accuracy')\n",
    "\n",
    "\n",
    "    print(\"Mean balanced accuracy for knn_random subspacing with the ensemble of size {:.1f} : {:.3f}\".format(i,scores_knn_rss.mean()))"
   ]
  },
  {
   "cell_type": "markdown",
   "id": "f0bf72cf",
   "metadata": {},
   "source": [
    "**Result**: The best performing ensemble size for 1NN is 19."
   ]
  },
  {
   "cell_type": "markdown",
   "id": "3893459c",
   "metadata": {},
   "source": [
    "Neural network"
   ]
  },
  {
   "cell_type": "code",
   "execution_count": 73,
   "id": "3f531ec8",
   "metadata": {},
   "outputs": [
    {
     "name": "stdout",
     "output_type": "stream",
     "text": [
      "Mean balanced accuracy for (neural network)mlp__random subspacing with the ensemble of size 2.0 : 0.673\n",
      "Mean balanced accuracy for (neural network)mlp__random subspacing with the ensemble of size 3.0 : 0.699\n",
      "Mean balanced accuracy for (neural network)mlp__random subspacing with the ensemble of size 4.0 : 0.687\n",
      "Mean balanced accuracy for (neural network)mlp__random subspacing with the ensemble of size 5.0 : 0.705\n",
      "Mean balanced accuracy for (neural network)mlp__random subspacing with the ensemble of size 6.0 : 0.707\n",
      "Mean balanced accuracy for (neural network)mlp__random subspacing with the ensemble of size 7.0 : 0.715\n",
      "Mean balanced accuracy for (neural network)mlp__random subspacing with the ensemble of size 8.0 : 0.718\n",
      "Mean balanced accuracy for (neural network)mlp__random subspacing with the ensemble of size 9.0 : 0.705\n",
      "Mean balanced accuracy for (neural network)mlp__random subspacing with the ensemble of size 10.0 : 0.703\n",
      "Mean balanced accuracy for (neural network)mlp__random subspacing with the ensemble of size 11.0 : 0.712\n",
      "Mean balanced accuracy for (neural network)mlp__random subspacing with the ensemble of size 12.0 : 0.714\n",
      "Mean balanced accuracy for (neural network)mlp__random subspacing with the ensemble of size 13.0 : 0.716\n",
      "Mean balanced accuracy for (neural network)mlp__random subspacing with the ensemble of size 14.0 : 0.721\n",
      "Mean balanced accuracy for (neural network)mlp__random subspacing with the ensemble of size 15.0 : 0.726\n",
      "Mean balanced accuracy for (neural network)mlp__random subspacing with the ensemble of size 16.0 : 0.726\n",
      "Mean balanced accuracy for (neural network)mlp__random subspacing with the ensemble of size 17.0 : 0.726\n",
      "Mean balanced accuracy for (neural network)mlp__random subspacing with the ensemble of size 18.0 : 0.729\n",
      "Mean balanced accuracy for (neural network)mlp__random subspacing with the ensemble of size 19.0 : 0.731\n",
      "Mean balanced accuracy for (neural network)mlp__random subspacing with the ensemble of size 20.0 : 0.733\n",
      "Mean balanced accuracy for (neural network)mlp__random subspacing with the ensemble of size 21.0 : 0.731\n",
      "Mean balanced accuracy for (neural network)mlp__random subspacing with the ensemble of size 22.0 : 0.728\n"
     ]
    }
   ],
   "source": [
    "mlp_classifier = MLPClassifier(hidden_layer_sizes=(10,), max_iter=1000)\n",
    "for i in (2,3,4,5,6,7,8,9,10,11,12,13,14,15,16,17,18,19,20,21,22):\n",
    "    random_SS_mlp = BaggingClassifier(mlp_classifier, \n",
    "                            n_estimators = i,\n",
    "                            max_samples = 1.0,\n",
    "                            max_features=0.5, random_state=1)\n",
    "\n",
    "    scores_mlp_rss = cross_val_score(random_SS_mlp, X, y, cv=folds, verbose = v, n_jobs = -1,scoring='balanced_accuracy')\n",
    "\n",
    "\n",
    "    print(\"Mean balanced accuracy for (neural network)mlp__random subspacing with the ensemble of size {:.1f} : {:.3f}\".format(i,scores_mlp_rss.mean()))"
   ]
  },
  {
   "cell_type": "markdown",
   "id": "a4d41d55",
   "metadata": {},
   "source": [
    "**Result**: The best performing ensemble size for neural network is 20."
   ]
  },
  {
   "cell_type": "markdown",
   "id": "5d294d5c",
   "metadata": {},
   "source": [
    "###### Investigate how changing the number of features used when applying random subspacing affects classification performance."
   ]
  },
  {
   "cell_type": "code",
   "execution_count": 74,
   "id": "a32cbfad",
   "metadata": {},
   "outputs": [],
   "source": [
    "feature_number = [0.1, 0.2, 0.3 ,0.4 , 0.5, 0.6, 0.7, 0.8, 0.9, 1.0]\n",
    "random_ss_scores = {'Decision Tree':[],'1-NN':[],'Neural Network':[]}"
   ]
  },
  {
   "cell_type": "markdown",
   "id": "e0865eab",
   "metadata": {},
   "source": [
    "Decision Tree Classifier"
   ]
  },
  {
   "cell_type": "code",
   "execution_count": 75,
   "id": "6f6ed720",
   "metadata": {},
   "outputs": [
    {
     "name": "stdout",
     "output_type": "stream",
     "text": [
      "Mean balanced accuracy for D_Tree with the subset of features of size 0.1 : 0.500\n",
      "Mean balanced accuracy for D_Tree with the subset of features of size 0.2 : 0.526\n",
      "Mean balanced accuracy for D_Tree with the subset of features of size 0.3 : 0.598\n",
      "Mean balanced accuracy for D_Tree with the subset of features of size 0.4 : 0.672\n",
      "Mean balanced accuracy for D_Tree with the subset of features of size 0.5 : 0.699\n",
      "Mean balanced accuracy for D_Tree with the subset of features of size 0.6 : 0.702\n",
      "Mean balanced accuracy for D_Tree with the subset of features of size 0.7 : 0.728\n",
      "Mean balanced accuracy for D_Tree with the subset of features of size 0.8 : 0.728\n",
      "Mean balanced accuracy for D_Tree with the subset of features of size 0.9 : 0.730\n",
      "Mean balanced accuracy for D_Tree with the subset of features of size 1.0 : 0.727\n"
     ]
    }
   ],
   "source": [
    "dt_classifier = DecisionTreeClassifier(max_depth=3)\n",
    "for i in feature_number:\n",
    "    random_SS_tree = BaggingClassifier(dt_classifier, \n",
    "                            n_estimators = 15,\n",
    "                            max_samples = 1.0,\n",
    "                            max_features= i, random_state=1)\n",
    "\n",
    "    scores_tree_rss = cross_val_score(random_SS_tree, X, y, cv=folds, verbose = v, n_jobs = -1,scoring='balanced_accuracy')\n",
    "    random_ss_scores['Decision Tree'].append(scores_tree_rss.mean())\n",
    "\n",
    "    print(\"Mean balanced accuracy for D_Tree with the subset of features of size {:.1f} : {:.3f}\".format(i,scores_tree_rss.mean()))"
   ]
  },
  {
   "cell_type": "markdown",
   "id": "19a1e48d",
   "metadata": {},
   "source": [
    "1-NN Classifier"
   ]
  },
  {
   "cell_type": "code",
   "execution_count": 76,
   "id": "a7581c48",
   "metadata": {},
   "outputs": [
    {
     "name": "stdout",
     "output_type": "stream",
     "text": [
      "Mean balanced accuracy for knn with the subset of features of size 0.1 : 0.538\n",
      "Mean balanced accuracy for knn with the subset of features of size 0.2 : 0.583\n",
      "Mean balanced accuracy for knn with the subset of features of size 0.3 : 0.674\n",
      "Mean balanced accuracy for knn with the subset of features of size 0.4 : 0.737\n",
      "Mean balanced accuracy for knn with the subset of features of size 0.5 : 0.761\n",
      "Mean balanced accuracy for knn with the subset of features of size 0.6 : 0.765\n",
      "Mean balanced accuracy for knn with the subset of features of size 0.7 : 0.776\n",
      "Mean balanced accuracy for knn with the subset of features of size 0.8 : 0.777\n",
      "Mean balanced accuracy for knn with the subset of features of size 0.9 : 0.768\n",
      "Mean balanced accuracy for knn with the subset of features of size 1.0 : 0.763\n"
     ]
    }
   ],
   "source": [
    "knn_classifier = KNeighborsClassifier(n_neighbors=1)\n",
    "for i in feature_number:\n",
    "    random_SS_Knn = BaggingClassifier(knn_classifier, \n",
    "                            n_estimators = 19,\n",
    "                            max_samples = 1.0, \n",
    "                            max_features= i, random_state=1)\n",
    "\n",
    "    scores_knn_rss = cross_val_score(random_SS_Knn, X, y, cv=folds, verbose = v, n_jobs = -1,scoring='balanced_accuracy')\n",
    "    random_ss_scores['1-NN'].append(scores_knn_rss.mean())\n",
    "\n",
    "    print(\"Mean balanced accuracy for knn with the subset of features of size {:.1f} : {:.3f}\".format(i,scores_knn_rss.mean()))"
   ]
  },
  {
   "cell_type": "markdown",
   "id": "178f1a42",
   "metadata": {},
   "source": [
    "Neural network"
   ]
  },
  {
   "cell_type": "code",
   "execution_count": 77,
   "id": "2c4e0554",
   "metadata": {},
   "outputs": [
    {
     "name": "stdout",
     "output_type": "stream",
     "text": [
      "Mean balanced accuracy for mlp(neural network) with the subset of features of size 0.1 : 0.500\n",
      "Mean balanced accuracy for mlp(neural network) with the subset of features of size 0.2 : 0.540\n",
      "Mean balanced accuracy for mlp(neural network) with the subset of features of size 0.3 : 0.622\n",
      "Mean balanced accuracy for mlp(neural network) with the subset of features of size 0.4 : 0.703\n",
      "Mean balanced accuracy for mlp(neural network) with the subset of features of size 0.5 : 0.733\n",
      "Mean balanced accuracy for mlp(neural network) with the subset of features of size 0.6 : 0.738\n",
      "Mean balanced accuracy for mlp(neural network) with the subset of features of size 0.7 : 0.759\n",
      "Mean balanced accuracy for mlp(neural network) with the subset of features of size 0.8 : 0.763\n",
      "Mean balanced accuracy for mlp(neural network) with the subset of features of size 0.9 : 0.766\n",
      "Mean balanced accuracy for mlp(neural network) with the subset of features of size 1.0 : 0.768\n"
     ]
    }
   ],
   "source": [
    "mlp_classifier = MLPClassifier(hidden_layer_sizes=(10,), max_iter=1000)\n",
    "for i in feature_number:\n",
    "    random_SS_mlp = BaggingClassifier(mlp_classifier, \n",
    "                            n_estimators = 20,\n",
    "                            max_samples = 1.0, # bootstrap resampling \n",
    "                            max_features= i, random_state=1)\n",
    "\n",
    "    scores_mlp_rss = cross_val_score(random_SS_mlp, X, y, cv=folds, verbose = v, n_jobs = -1,scoring='balanced_accuracy')\n",
    "    random_ss_scores['Neural Network'].append(scores_mlp_rss.mean())\n",
    "\n",
    "    print(\"Mean balanced accuracy for mlp(neural network) with the subset of features of size {:.1f} : {:.3f}\".format(i,scores_mlp_rss.mean()))"
   ]
  },
  {
   "cell_type": "code",
   "execution_count": 79,
   "id": "d5fd6cef",
   "metadata": {},
   "outputs": [
    {
     "data": {
      "image/png": "[encoded data removed]",
      "text/plain": [
       "<Figure size 432x288 with 1 Axes>"
      ]
     },
     "metadata": {
      "needs_background": "light"
     },
     "output_type": "display_data"
    }
   ],
   "source": [
    "# Plotting the results\n",
    "for name in random_ss_scores.keys():\n",
    "    plt.plot(feature_number, random_ss_scores[name], label=name)\n",
    "\n",
    "plt.xlabel('The subset of features in percentage')\n",
    "plt.ylabel('Balanced Accuracy')\n",
    "plt.title('how changing the number of features used when applying random subspacing affects classification performance')\n",
    "plt.legend()\n",
    "plt.grid()\n",
    "plt.show()"
   ]
  },
  {
   "cell_type": "markdown",
   "id": "fc3d06f2",
   "metadata": {},
   "source": [
    "**Result**:\n",
    "- Neural Network: From the plot we can see the general uptrend pattern that performance of the neural network increases with the size of the subset of features, it reached its highest balanced accuracy when all of features are used which mean it is benifiting from more features given due to its nature of the complexity(more parameter) and Non-linearity (the relationship between the input and output data)\n",
    "\n",
    "\n",
    "- Decision Tree: From the plot we can see that the performance of the decision tree increases with the size of the subset of features, which suggest the decision tree might be benifiting from more given features to make decision.\n",
    "\n",
    "\n",
    "- 1NN: From the plot we can see the performance of 1NN increases with the size of the subset of featires drasticly up to 50% then cool down which suggest certain amount of features is enough to for 1-NN to get the nearly best performance."
   ]
  },
  {
   "cell_type": "markdown",
   "id": "9c1e16a6",
   "metadata": {},
   "source": [
    "### (e) Based on the lectures, which set of classifiers is expected to benefit more from bagging techniques than random subspacing and which classifiers benefit more from random subspacing? For your dataset, determine the best ensemble strategy for each of these classifiers. Discuss if this is in line with what you expected. Discuss if there is enough diversity in your ensemble and what else could you have done to improve the performance of your ensemble"
   ]
  },
  {
   "cell_type": "markdown",
   "id": "3aa74f79",
   "metadata": {},
   "source": [
    "Based on the lectures, which set of classifiers is expected to benefit more from bagging techniques than random subspacing and which classifiers benefit more from random subspacing? \n",
    "\n",
    "**Result**: \n",
    "\n",
    "- Based on the lecture, Bagging can often reduce the variance part of error which can benefit classifiers that tend to overfit on the large traning data due to high variance like decision tree and neural Network (complex model), Knn as usually considered as high bias classifier wwith large k would benifit more from random subspacing because random subspacing can produce more diversity by different subset of features for knn."
   ]
  },
  {
   "cell_type": "markdown",
   "id": "286e91bd",
   "metadata": {},
   "source": [
    "Decision Tree:\n",
    "- (Individual model) Decision Tree (max depth 3) using cross validation: Balanced Accuracy: 0.727\n",
    "\n",
    "- Mean balanced accuracy for D_Tree_bag with the bootstrap samples of size 0.1 : 0.737\n",
    "\n",
    "- Mean balanced accuracy for D_Tree with the subset of features of size 0.9 : 0.730\n",
    "\n",
    "1-NN:\n",
    "- (Individual model) 1-NN using cross validation: Balanced Accuracy: 0.755\n",
    "\n",
    "- Mean balanced accuracy for knn_bag with the bootstrap samples of size 0.4 : 0.770\n",
    "\n",
    "- Mean balanced accuracy for knn with the subset of features of size 0.8 : 0.777\n",
    "\n",
    "Neural network:\n",
    "- (Individual model) Neural Network (10 hidden nodes) using cross validation: Balanced Accuracy: 0.758\n",
    "\n",
    "- Mean balanced accuracy for mlp_bag(neural network) with the bootstrap samples of size 0.9 : 0.771\n",
    "\n",
    "- Mean balanced accuracy for mlp(neural network) with the subset of features of size 1.0 : 0.768"
   ]
  },
  {
   "cell_type": "markdown",
   "id": "3aeb1b73",
   "metadata": {},
   "source": [
    "For your dataset, determine the best ensemble strategy for each of these classifiers. Discuss if this is in line with what you expected. Discuss if there is enough diversity in your ensemble and what else could you have done to improve the performance of your ensemble.\n",
    "\n",
    "**Result**:\n",
    "\n",
    "- As the result of evaluation metric i produced for each of classfier using different ensemble technique, just like what i discussed based on the lectures, For the decision tree and neural network the best ensemble strategy would be using bagging technique which produced the top performance with 0.737 and 0.771 compared to random subspacing performance and individual performance. For the knn the best ensemble strategy would be using random subspacing technique which produced the top performance with 0.777 compared to random subspacing performance and individual performance.\n",
    "\n",
    "- This is in line with my expected because both decision tree and neural network as complex model can have relatively high performance using bootstrap samples and knn using random subspacing. Something seems unusul that knn's performance is still improved with bagging technique is because we picked k = 1 which can lead knn to high variance model if k is small but it can benifit from bagging technique.\n",
    "\n",
    "- There is enough diversity in my ensemble as at least ensemble perform better than individual model, without sufficent diversity then the mistake that one classifier makes in the ensemble can not be corrected by the other classfiers which would lead not better performance compared to individual classifier's performance, we can also possibly improve the performance of our ensemble by applying different technique like boosting. Boosting train a sequence of classifiers, one after another, so that later classifiers are trained to better predict class labels for examples that earlier ones performed poorly on, each of example that failed to classfier will be assigned with higher weight and it will be selected with higher probability and next classfier will be foucing on correcting those errors."
   ]
  },
  {
   "cell_type": "markdown",
   "id": "6f22ae4b",
   "metadata": {},
   "source": [
    "## Question 2\n",
    "\n",
    "You are given a set of 10 balls and 10 bins (numbered 0 to 9). Initially, all the balls are in the \n",
    "bin number 5 and your goal is to ensure that the balls are well distributed across the bins \n",
    "eventually. Ideally, all balls should be in different bins. Train a reinforcement learning (RL) \n",
    "agent that should consider all balls in turn and for each ball b, decide whether to keep the \n",
    "ball in the current bin Bb or move it to the bin Bb - 1 or move it to the bin Bb + 1. Note that the \n",
    "action to move to bin Bb - 1 is only permissible if Bb – 1 >= 0 and the action to move it to the \n",
    "bin Bb + 1 is only permissible if Bb + 1 <= 9. "
   ]
  },
  {
   "cell_type": "markdown",
   "id": "c42fb4d5",
   "metadata": {},
   "source": [
    "### (a) Carefully decide the features to use in the state representation of your RL agent. Also, carefully decide the reward function for your RL agent and the length of an episode. Note that you can also have contextual features in your state representation, i.e., features that are specific to the ball with the current turn."
   ]
  },
  {
   "cell_type": "markdown",
   "id": "c83ad00d",
   "metadata": {},
   "source": []
  },
  {
   "cell_type": "code",
   "execution_count": null,
   "id": "42e5af60",
   "metadata": {},
   "outputs": [],
   "source": []
  },
  {
   "cell_type": "code",
   "execution_count": null,
   "id": "89b2e0a3",
   "metadata": {},
   "outputs": [],
   "source": []
  },
  {
   "cell_type": "code",
   "execution_count": null,
   "id": "6bd7e217",
   "metadata": {},
   "outputs": [],
   "source": []
  },
  {
   "cell_type": "code",
   "execution_count": null,
   "id": "6fa3ca3d",
   "metadata": {},
   "outputs": [],
   "source": []
  },
  {
   "cell_type": "code",
   "execution_count": null,
   "id": "6438922e",
   "metadata": {},
   "outputs": [],
   "source": []
  },
  {
   "cell_type": "code",
   "execution_count": null,
   "id": "ec66682c",
   "metadata": {},
   "outputs": [],
   "source": []
  },
  {
   "cell_type": "code",
   "execution_count": null,
   "id": "de173be7",
   "metadata": {},
   "outputs": [],
   "source": []
  },
  {
   "cell_type": "code",
   "execution_count": null,
   "id": "296d0f73",
   "metadata": {},
   "outputs": [],
   "source": []
  },
  {
   "cell_type": "code",
   "execution_count": 88,
   "id": "f11d2891",
   "metadata": {},
   "outputs": [],
   "source": [
    "import gymnasium as gym\n",
    "from gymnasium import spaces\n",
    "import numpy as np\n",
    "import stable_baselines3 as sb3\n",
    "import torch as th\n",
    "\n",
    "from stable_baselines3.common.env_checker import check_env"
   ]
  },
  {
   "cell_type": "code",
   "execution_count": null,
   "id": "aa9a44b7",
   "metadata": {},
   "outputs": [],
   "source": []
  },
  {
   "cell_type": "code",
   "execution_count": null,
   "id": "a930dffa",
   "metadata": {},
   "outputs": [],
   "source": []
  },
  {
   "cell_type": "code",
   "execution_count": null,
   "id": "acbd7267",
   "metadata": {},
   "outputs": [],
   "source": []
  },
  {
   "cell_type": "code",
   "execution_count": null,
   "id": "ccc50060",
   "metadata": {},
   "outputs": [],
   "source": []
  },
  {
   "cell_type": "code",
   "execution_count": null,
   "id": "ef0f6efe",
   "metadata": {},
   "outputs": [],
   "source": []
  }
 ],
 "metadata": {
  "kernelspec": {
   "display_name": "Python 3 (ipykernel)",
   "language": "python",
   "name": "python3"
  },
  "language_info": {
   "codemirror_mode": {
    "name": "ipython",
    "version": 3
   },
   "file_extension": ".py",
   "mimetype": "text/x-python",
   "name": "python",
   "nbconvert_exporter": "python",
   "pygments_lexer": "ipython3",
   "version": "3.9.12"
  }
 },
 "nbformat": 4,
 "nbformat_minor": 5
}
